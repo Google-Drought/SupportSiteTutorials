{
  "cells": [
    {
      "cell_type": "code",
      "execution_count": null,
      "metadata": {
        "id": "WN2wyYu3tBI_"
      },
      "outputs": [],
      "source": [
        "#Import Relevent Packages \n",
        "import datetime\n",
        "import os\n",
        "import requests\n",
        "import time\n",
        "     \n",
        "!pip install --quiet geopandas\n",
        "import pandas as pd\n",
        "import geopandas as gpd\n",
        "\n",
        "import numpy as np\n",
        "import matplotlib\n",
        "import matplotlib.pyplot as plt"
      ]
    },
    {
      "cell_type": "code",
      "execution_count": 2,
      "metadata": {
        "id": "ir5FBAQ_SKn0"
      },
      "outputs": [],
      "source": [
        "#Import Relevent Packages \n",
        "%%capture\n",
        "if 'google.colab' in str(get_ipython()):\n",
        "    !pip install --quiet rioxarray\n",
        "\n",
        "#Install mapping packages\n",
        "import rioxarray as rxr\n",
        "from rioxarray.merge import merge_arrays\n",
        "import matplotlib.pyplot as plt\n",
        "from mpl_toolkits.axes_grid1 import make_axes_locatable"
      ]
    },
    {
      "cell_type": "code",
      "execution_count": 3,
      "metadata": {
        "id": "svaLaKx09zbQ"
      },
      "outputs": [],
      "source": [
        "#Prep for API Call\n",
        "# Set root URL for API requests\n",
        "root_url = 'https://api.climateengine.org/'\n",
        "# Authentication info for the API (INSERT YOUR OWN KEY)\n",
        "headers = {'Authorization': 'INSERT YOUR API KEY HERE'}\n",
        "# Google Storage bucket for storing output files (INSERT YOUR OWN BUCKET)\n",
        "bucket_name = 'INSERT YOUR BUCKET HERE'"
      ]
    },
    {
      "cell_type": "code",
      "execution_count": null,
      "metadata": {
        "id": "HPH3T81sNmCx"
      },
      "outputs": [],
      "source": [
        "#Bring in spatial file of interest (GeoJSON, SHP) \n",
        "df = gpd.read_file('/content/Continental_US.shp')\n",
        "\n",
        " #Generate a bounding box around AOI\n",
        "bbox = df.bounds\n",
        "\n",
        "#Get values from box\n",
        "sw_long = round(bbox.iat[0,0], 6)\n",
        "sw_lat = round(bbox.iat[0,1], 6)\n",
        "ne_long = round(bbox.iat[0,2], 6)\n",
        "ne_lat = round(bbox.iat[0,3], 6)\n",
        "\n",
        "#Generate Bounding Box Coordinates String\n",
        "allot_bbox = [sw_long,sw_lat,ne_long,ne_lat]\n",
        "\n",
        "print(allot_bbox)"
      ]
    },
    {
      "cell_type": "code",
      "execution_count": null,
      "metadata": {
        "id": "aos20_yCMG36"
      },
      "outputs": [],
      "source": [
        "#Select endpoint that exports a map of values to a Google Cloud storage bucket\n",
        "trendEndpoint = 'raster/export/mann_kendall'\n",
        "\n",
        "# No need to include an extension on the export_filename below, .tif will be appended automatically.\n",
        "trendExport_filename = 'LST_Trend_Example'\n",
        "\n",
        "#Set up parameters dictionary for API call\n",
        "trendParams = {\n",
        "    'dataset': 'MODIS_TERRA_8DAY',\n",
        "    'variable': 'LST_Day_1km',\n",
        "    'temporal_statistic': 'mean',\n",
        "    'calculation': 'mk_sen',\n",
        "    'start_season': '04-20',\n",
        "    'end_season': '09-30',\n",
        "    'start_year': '2000',\n",
        "    'end_year': '2022',\n",
        "    'bounding_box': f'{allot_bbox}',\n",
        "    'export_path': f'{bucket_name}/{trendExport_filename}'\n",
        "}\n",
        "\n",
        "# Send API request\n",
        "trendR = requests.get(root_url + trendEndpoint, params=trendParams, headers=headers, verify=False)\n",
        "trendExport_response = trendR.json()\n",
        "print(trendExport_response)\n",
        "print(trendR.json)\n",
        "print(trendR.text)\n",
        "print(trendR.status_code)"
      ]
    },
    {
      "cell_type": "code",
      "execution_count": null,
      "metadata": {
        "id": "rkGM2zQoQyc2"
      },
      "outputs": [],
      "source": [
        "#Connect to GCS\n",
        "#Get access to Google Cloud Storage Bucket \n",
        "from google.colab import auth\n",
        "auth.authenticate_user()\n",
        "\n",
        "# https://cloud.google.com/resource-manager/docs/creating-managing-projects (INSERT GOOGLE PROJECT ID)\n",
        "project_id = 'INSERT YOUR GOOGLE PROJECT ID HERE'\n",
        "!gcloud config set project {project_id}"
      ]
    },
    {
      "cell_type": "code",
      "execution_count": null,
      "metadata": {
        "id": "XwCiU3MZQzL5"
      },
      "outputs": [],
      "source": [
        "#Bring in Rasters from GCS\n",
        "# Download the file from a given Google Cloud Storage bucket.\n",
        "!gsutil cp gs://{bucket_name}/{trendExport_filename}.tif /content/LST_Trend_Example.tif"
      ]
    },
    {
      "cell_type": "code",
      "execution_count": 9,
      "metadata": {
        "id": "UslxGxmIQ6rf"
      },
      "outputs": [],
      "source": [
        "#Define file path and read in raster\n",
        "file_path1 = '/content/LST_Trend_Example.tif'\n",
        "rds = rxr.open_rasterio(file_path1)"
      ]
    },
    {
      "cell_type": "code",
      "execution_count": null,
      "metadata": {
        "id": "jF5JWiHgRARu"
      },
      "outputs": [],
      "source": [
        "#Make Maps\n",
        "# Generate Map \n",
        "fig, ax = plt.subplots()\n",
        "fig.set_size_inches(15, 13)\n",
        "divider = make_axes_locatable(ax)\n",
        "cax = divider.append_axes('right', size='5%', pad=0.05)\n",
        "im = ax.imshow(rds[0], cmap ='RdBu_r', vmin = -0.1, vmax = 0.1)\n",
        "\n",
        "#Add Color Bar\n",
        "fig.colorbar(im, cax = cax, orientation = 'vertical')\n",
        "\n",
        "#Add Title\n",
        "ax.set_title('MODIS Terra 8-Day Slope of Trend in Land Surface Temperature (LST) (Apr 20 to Sep 30, Mean, 2000 - 2022)', fontsize =14)\n",
        "\n",
        "#Add Figure Export Option\n",
        "plt.savefig('Trend.png', bbox_inches='tight')\n",
        "\n",
        "#Show Map\n",
        "plt.show()"
      ]
    }
  ],
  "metadata": {
    "colab": {
      "provenance": []
    },
    "kernelspec": {
      "display_name": "Python 3",
      "name": "python3"
    },
    "language_info": {
      "name": "python"
    }
  },
  "nbformat": 4,
  "nbformat_minor": 0
}
