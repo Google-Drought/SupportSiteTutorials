{
  "cells": [
    {
      "cell_type": "code",
      "execution_count": 1,
      "metadata": {
        "id": "y5oC63QNe1he"
      },
      "outputs": [],
      "source": [
        "#Import Packages\n",
        "import requests\n",
        "import json\n",
        "import pandas as pd\n",
        "import matplotlib.pyplot as plt\n",
        "import numpy as np\n",
        "from pandas import json_normalize"
      ]
    },
    {
      "cell_type": "code",
      "execution_count": 2,
      "metadata": {
        "id": "u-hmjjXofWLX"
      },
      "outputs": [],
      "source": [
        "#Prep for API Call\n",
        "# Set root URL for API requests\n",
        "root_url = 'https://api.climateengine.org/'\n",
        "# Authentication info for the API (INSERT YOUR OWN KEY)\n",
        "headers = {'Authorization': 'INSERT YOUR API KEY HERE'}"
      ]
    },
    {
      "cell_type": "markdown",
      "metadata": {
        "id": "0i_7awXgfXyk"
      },
      "source": [
        "### Demo 1: Population in Each Heat Stress Category in Each State"
      ]
    },
    {
      "cell_type": "code",
      "execution_count": null,
      "metadata": {
        "colab": {
          "base_uri": "https://localhost:8080/"
        },
        "id": "90yYZnXEfvv9",
        "outputId": "a066f24d-fbab-40b3-940c-0cefebf74244"
      },
      "outputs": [],
      "source": [
        "#Set Up & Make Request\n",
        "#group_by Endpoint\n",
        "endpoint = 'zonal_stats/group_by/climate_engine_asset'\n",
        "\n",
        "#Get population in heat stress categories in each state\n",
        "#Categories: Extreme Cold Stress, Very Strong Cold Stress, Strong Cold Stress, Moderate Cold Stress, Slight Cold Stress, No Thermal Stress, Moderate Heat Stress, Strong Heat Stress, Very Strong Heat Stress, Extreme Heat Stress\n",
        "params ={\n",
        "    'group_img_id': 'projects/climate-engine-pro/assets/ce-era5-heat/20240108',\n",
        "    'summary_img_id': 'CIESIN/GPWv411/GPW_Population_Count/gpw_v4_population_count_rev11_2020_30_sec',\n",
        "    'region': 'states',\n",
        "    'filter_by': 'Name',\n",
        "    'group_band': 'utci_mean',\n",
        "    'summary_band': 'population_count',\n",
        "    'group_img_type': 'continuous',\n",
        "    'area_reducer': 'sum',\n",
        "    'bins': '[233.15, 246.15, 286.15, 273.15, 282.15, 299.15, 305.15, 311.15, 319.15]'\n",
        "  }\n",
        "# Send request to the API\n",
        "r = requests.get(root_url + endpoint, params=params, headers=headers, verify=True)\n",
        "response = r.json()\n",
        "print(response)"
      ]
    },
    {
      "cell_type": "code",
      "execution_count": null,
      "metadata": {
        "id": "8yQFonrWwkrD"
      },
      "outputs": [],
      "source": [
        "#Process Output\n",
        "df = pd.DataFrame(response)\n",
        "\n",
        "# Flatten the 'group' column\n",
        "df = pd.concat([df.drop(['group'], axis=1), df['group'].apply(pd.Series)], axis=1)\n",
        "\n",
        "#rename the columns\n",
        "df = df.rename(columns = {'(-inf, 233.15)': 'Extreme Cold Stress', '[233.15, 246.15)':'Very Strong Cold Stress', '[246.15, 286.15)': 'Strong Cold Stress','[286.15, 273.15)':'Moderate Cold Stress','[273.15, 282.15)':'Slight Cold Stress','[282.15, 299.15)':'No Thermal Stress','[299.15, 305.15)':'Moderate Heat Stress','[305.15, 311.15)':'Strong Heat Stress','[311.15, 319.15)':'Very Strong Heat Stress','[319.15, inf)':'Extreme Heat Stress'})\n",
        "\n",
        "#Get Row Total\n",
        "df['Row Total'] = df.iloc[:, 1:].sum(axis=1)\n",
        "\n",
        "#Calculate the percent of total population in each stress class\n",
        "df.iloc[:, 1:] = df.iloc[:, 1:].apply(lambda x: (x / df['Row Total'])*100)\n",
        "df"
      ]
    },
    {
      "cell_type": "code",
      "execution_count": 5,
      "metadata": {
        "id": "BQNVVsgyUh3a"
      },
      "outputs": [],
      "source": [
        "#Drop Row Total for Visualization\n",
        "df = df.drop('Row Total', axis=1)\n",
        "\n",
        "#Sort Alphabetically\n",
        "df = df.sort_values(by=['Name'],ascending=False)"
      ]
    },
    {
      "cell_type": "code",
      "execution_count": null,
      "metadata": {
        "id": "xOp2VYai7H6o"
      },
      "outputs": [],
      "source": [
        "#Plot Data\n",
        "#Create figure\n",
        "fig, ax = plt.subplots(figsize=(14, 10))\n",
        "\n",
        "#Plot data as horizontal stacked bar charts\n",
        "ax = df.plot(kind='barh', stacked = True, color=['#313695', '#4575b4', '#74add1', '#abd9e9', '#e0f3f8','#fee090','#fdae61','#f46d43','#d73027','#a50026'], ax=ax)\n",
        "\n",
        "#Add a title to the plot\n",
        "plt.title('Jan 08, 2024: % population under different stress categories')\n",
        "\n",
        "#Label y tick marks using Names\n",
        "ax.set_yticklabels(df['Name'])\n",
        "\n",
        "# Add more distance between tick labels\n",
        "ax.tick_params(axis='y', which='both', pad=10)\n",
        "\n",
        "#Move legend outside of plot\n",
        "ax.legend(loc='upper right', bbox_to_anchor=(1.30, 1))\n",
        "\n",
        "#Make sure the legend isn't cut of when saving figure\n",
        "plt.tight_layout()\n",
        "\n",
        "#Save figure to temporary files\n",
        "plt.savefig('demo1.png')"
      ]
    },
    {
      "cell_type": "markdown",
      "metadata": {
        "id": "2HmxLim5ENaL"
      },
      "source": [
        "### Demo 2: Acres of Corn in Drought Categories"
      ]
    },
    {
      "cell_type": "code",
      "execution_count": null,
      "metadata": {
        "id": "7LWCIBEfEi48"
      },
      "outputs": [],
      "source": [
        "#Set Up & Make Request\n",
        "#group_by Endpoint\n",
        "endpoint = 'zonal_stats/group_by/custom_asset'\n",
        "\n",
        "#Get ha in drought categories in each state\n",
        "#Categories:\n",
        "params ={\n",
        "    'group_img_id': 'GRIDMET/DROUGHT/20220714',\n",
        "    'summary_img_id': 'projects/climate-engine-pro/assets/cdl-crop-area/2022',\n",
        "    'asset_id': 'projects/earthengine-legacy/assets/projects/climate-engine/featureCollections/shp_simplified/ClimateEngine_US_States',\n",
        "    'sub_choices': '[Iowa, Illinois, Nebraska, Minnesota, Indiana]',\n",
        "    'filter_by': 'Name',\n",
        "    'group_band': 'spi1y',\n",
        "    'summary_band': 'crop_area_1',\n",
        "    'group_img_type': 'continuous',\n",
        "    'area_reducer': 'sum'\n",
        "  }\n",
        "# Send request to the API\n",
        "r = requests.get(root_url + endpoint, params=params, headers=headers, verify=True)\n",
        "response = r.json()\n",
        "print(response)"
      ]
    },
    {
      "cell_type": "code",
      "execution_count": null,
      "metadata": {
        "id": "8v0uevo1ftTM"
      },
      "outputs": [],
      "source": [
        "#Process Output\n",
        "df = pd.DataFrame(response)\n",
        "\n",
        "# Flatten the 'group' column\n",
        "df = pd.concat([df.drop(['group'], axis=1), df['group'].apply(pd.Series)], axis=1)\n",
        "\n",
        "#Rename columns\n",
        "df = df.rename(columns = {'(-inf, -2.5)': 'Exceptional Drought', '[-2.5, -2)':'Extreme Drought', '[-2, -1.5)': 'Severe Drought','[-1.5, -1)':'Moderate Drought','[-1, -0.5)':'Abnormal Dry','[-0.5, 0.5)':'Neutral','[0.5, 1)':'Abnormal Wet','[1, 1.5)':'Moderate Wet','[1.5, 2)':'Severe Wet','[2, 2.5)':'Extreme Wet', '[2.5, inf)': 'Exceptional Wet'})\n",
        "\n",
        "#Calculate ha\n",
        "df.iloc[:, 1:] = df.iloc[:, 1:].apply(lambda x: (x / 10000))\n",
        "df"
      ]
    },
    {
      "cell_type": "code",
      "execution_count": null,
      "metadata": {
        "id": "pUWff3BxlvRR"
      },
      "outputs": [],
      "source": [
        "#Plot data for top 5 producing states\n",
        "# Create a figure and axis\n",
        "fig, ax = plt.subplots(figsize=(10, 6))\n",
        "\n",
        "#Set bar width\n",
        "bar_width = 0.3\n",
        "\n",
        "#Set Starting Points\n",
        "lengths = np.array([1,4,7,10,13])\n",
        "\n",
        "# Plot the first set of bars\n",
        "bars1 = ax.bar(lengths, df['Exceptional Drought'], bar_width, label='Exceptional Drought', color='#a50026')\n",
        "\n",
        "# Plot the second set of bars, adjusting the x position\n",
        "bars2 = ax.bar(lengths + bar_width, df['Extreme Drought'], bar_width, label='Extreme Drought', color='#d73027')\n",
        "\n",
        "# Plot the third set of bars, adjusting the x position\n",
        "bars3 = ax.bar(lengths + 2*bar_width, df['Severe Drought'], bar_width, label='Severe Drought', color='#f46d43')\n",
        "\n",
        "# Plot the second set of bars, adjusting the x position\n",
        "bars4 = ax.bar(lengths + 3*bar_width, df['Moderate Drought'], bar_width, label='Extreme Drought', color='#fdae61')\n",
        "\n",
        "# Plot the second set of bars, adjusting the x position\n",
        "bars5 = ax.bar(lengths + 4*bar_width, df['Abnormal Dry'], bar_width, label='Abnormal Dry', color='#fee090')\n",
        "\n",
        "# Plot the second set of bars, adjusting the x position\n",
        "bars6 = ax.bar(lengths + 5*bar_width, df['Neutral'], bar_width, label='Neutral', color='#ffffbf')\n",
        "\n",
        "# Plot the second set of bars, adjusting the x position\n",
        "bars7 = ax.bar(lengths + 6*bar_width, df['Abnormal Wet'], bar_width, label='Abnormal Wet', color='#e0f3f8')\n",
        "\n",
        "# Plot the second set of bars, adjusting the x position\n",
        "bars8 = ax.bar(lengths + 7*bar_width, df['Moderate Wet'], bar_width, label='Moderate Wet', color='#abd9e9')\n",
        "\n",
        "# Plot the second set of bars, adjusting the x position\n",
        "bars9 = ax.bar(lengths + 8*bar_width, df['Severe Wet'], bar_width, label='Severe Wet', color='#74add1')\n",
        "\n",
        "# Plot the second set of bars, adjusting the x position\n",
        "bars10 = ax.bar(lengths + 9*bar_width, df['Extreme Wet'], bar_width, label='Extreme Wet', color='#4575b4')\n",
        "\n",
        "# Plot the second set of bars, adjusting the x position\n",
        "bars11 = ax.bar(lengths + 10*bar_width, df['Exceptional Wet'], bar_width, label='Exceptional Wet', color='#313695')\n",
        "\n",
        "# Add labels and title\n",
        "ax.set_xlabel('States')\n",
        "ax.set_ylabel('Hectacres')\n",
        "ax.set_title('July 12th, 2022: Hectacres in Each Drought Category for Top 5 Corn Producing States')\n",
        "ax.set_xticks(lengths + 5*bar_width)\n",
        "ax.set_xticklabels(df['Name'])\n",
        "\n",
        "#Move legend outside of plot\n",
        "ax.legend(loc='upper right', bbox_to_anchor=(1.45, 1))\n",
        "\n",
        "#Make sure the legend isn't cut of when saving figure\n",
        "plt.tight_layout()\n",
        "\n",
        "#Save figure to temporary files\n",
        "plt.savefig('demo2.png')\n",
        "\n",
        "# Show the plot\n",
        "plt.show()"
      ]
    },
    {
      "cell_type": "markdown",
      "metadata": {
        "id": "rs-gcI5bsdl9"
      },
      "source": [
        "###Demo 3: Average Vulnerability in each USDM category in Polygon"
      ]
    },
    {
      "cell_type": "code",
      "execution_count": null,
      "metadata": {
        "id": "fhN9o80t-Q6j"
      },
      "outputs": [],
      "source": [
        "#Set Up & Make Request\n",
        "#group_by Endpoint\n",
        "endpoint = 'zonal_stats/group_by/polygons'\n",
        "\n",
        "#Get average vulnerability in each drought category in user defined polygon\n",
        "#Categories:\n",
        "params ={\n",
        "    'group_img_id': 'projects/climate-engine/usdm/weekly/20240116_conus',\n",
        "    'summary_img_id': 'projects/climate-engine-pro/assets/ce-svi/2020',\n",
        "    'coordinates': '[[[-126.03,23.89], [-66.45,23.89], [-66.45,49.73], [-126.03,49.73]]]',\n",
        "    'group_band': 'drought',\n",
        "    'summary_band': 'b1',\n",
        "    'group_img_type': 'discrete',\n",
        "    'area_reducer': 'mean',\n",
        "    'bins': '[-1,1,2,3,4]'\n",
        "  }\n",
        "# Send request to the API\n",
        "r = requests.get(root_url + endpoint, params=params, headers=headers, verify=True)\n",
        "response = r.json()\n",
        "print(response)"
      ]
    },
    {
      "cell_type": "code",
      "execution_count": null,
      "metadata": {
        "id": "EiRhaKa2A66R"
      },
      "outputs": [],
      "source": [
        "# Convert the list of dictionaries to a DataFrame\n",
        "df = pd.DataFrame(response)\n",
        "df = pd.concat([df.drop(['group'], axis=1), df['group'].apply(pd.Series)], axis=1)\n",
        "df"
      ]
    },
    {
      "cell_type": "markdown",
      "metadata": {
        "id": "p35BdZOVAseM"
      },
      "source": [
        "###Demo 4: Population in Temperature Categories over JAS 2023 for California"
      ]
    },
    {
      "cell_type": "code",
      "execution_count": 12,
      "metadata": {
        "id": "Y2hHFzLwBoCQ"
      },
      "outputs": [],
      "source": [
        "#Create List of dates to loop through\n",
        "dates = ['20230701','20230702','20230703','20230704','20230705','20230706','20230707','20230708','20230709','20230710',\n",
        "         '20230711','20230712','20230713','20230714','20230715','20230716','20230717','20230718','20230719','20230720',\n",
        "         '20230721','20230722','20230723','20230724','20230725','20230726','20230727','20230728','20230729','20230730',\n",
        "         '20230731','20230801','20230802','20230803','20230804','20230805','20230806','20230807','20230808','20230809',\n",
        "         '20230810','20230811','20230812','20230813','20230814','20230815','20230816','20230817','20230818','20230819',\n",
        "         '20230820','20230821','20230822','20230823','20230824','20230825','20230826','20230827','20230828','20230829',\n",
        "         '20230830','20230831']"
      ]
    },
    {
      "cell_type": "code",
      "execution_count": 15,
      "metadata": {
        "id": "Di6nIUPsXJoe"
      },
      "outputs": [],
      "source": [
        "#Define function for API requests\n",
        "daily_list = []\n",
        "\n",
        "def get_summaries(date):\n",
        "  #Set Up & Make Request\n",
        "  #group_by Endpoint\n",
        "  endpoint = 'zonal_stats/group_by/custom_asset'\n",
        "\n",
        "  #Get population in temperature categories in California\n",
        "  #Categories:\n",
        "  params ={\n",
        "    'group_img_id': 'IDAHO_EPSCOR/GRIDMET/' + date,\n",
        "    'summary_img_id': 'CIESIN/GPWv411/GPW_Population_Count/gpw_v4_population_count_rev11_2020_30_sec',\n",
        "    'asset_id': 'projects/earthengine-legacy/assets/projects/climate-engine/featureCollections/shp_simplified/ClimateEngine_US_States',\n",
        "    'sub_choices': 'California',\n",
        "    'filter_by': 'Name',\n",
        "    'group_band': 'tmmx',\n",
        "    'summary_band': 'population_count',\n",
        "    'group_img_type': 'continuous',\n",
        "    'area_reducer': 'sum',\n",
        "    'bins': '[308.15,310.928]'\n",
        "    }\n",
        "  # Send request to the API\n",
        "  r = requests.get(root_url + endpoint, params=params, headers=headers, verify=True)\n",
        "  response = r.json()\n",
        "\n",
        "  #Unpack response\n",
        "  [data] = response\n",
        "\n",
        "  #Create a data column\n",
        "  data['Date'] = date\n",
        "\n",
        "  #Remove Name\n",
        "  data.pop('Name')\n",
        "\n",
        "  #Append data to list\n",
        "  daily_list.append(data)\n",
        "\n",
        "  #Return List\n",
        "  return daily_list"
      ]
    },
    {
      "cell_type": "code",
      "execution_count": 16,
      "metadata": {
        "id": "njtOGbhpmqcf"
      },
      "outputs": [],
      "source": [
        "#Run function over all dates\n",
        "for i in dates:\n",
        "  get_summaries(i)\n",
        "\n",
        "\n"
      ]
    },
    {
      "cell_type": "code",
      "execution_count": null,
      "metadata": {
        "id": "2X8JpiGWtY1O"
      },
      "outputs": [],
      "source": [
        "#Convert list to pandas dataframe\n",
        "dt = pd.DataFrame.from_records(daily_list)\n",
        "\n",
        "# Flatten the 'group' column\n",
        "dt2 = pd.concat([dt.drop(['group'], axis=1), dt['group'].apply(pd.Series)], axis=1)\n",
        "\n",
        "#Reformat Date\n",
        "dt2['Date'] = pd.to_datetime(dt2['Date'], format='%Y%m%d').dt.strftime('%m-%d')\n",
        "\n",
        "#Rename columns\n",
        "dt2 = dt2.rename(columns = {'(-inf, 308.15)': 'lt_95', '[308.15, 310.928)':'gte_95_lt100','[310.928, inf)': 'gte_100' })\n",
        "dt2"
      ]
    },
    {
      "cell_type": "code",
      "execution_count": null,
      "metadata": {
        "id": "A2T-y67_1OFV"
      },
      "outputs": [],
      "source": [
        "#Plot\n",
        "# Plot multiple lines\n",
        "plt.figure(figsize=(10, 6))  # Adjust the figure size as needed\n",
        "\n",
        "#Add Different lines\n",
        "plt.plot(dt2['Date'], dt2['lt_95'], label='lt_95', color = '#ffeda0', marker='o')\n",
        "plt.plot(dt2['Date'], dt2['gte_95_lt100'], label='gte_95_lt100', color = '#feb24c', marker='o')\n",
        "plt.plot(dt2['Date'], dt2['gte_100'], label='gte_100', color = '#f03b20', marker='o')\n",
        "\n",
        "#Make x-ticks every 5 days\n",
        "plt.xticks(dt2['Date'][::5])\n",
        "\n",
        "#Create Labels\n",
        "plt.xlabel('Date')\n",
        "plt.ylabel('Population')\n",
        "plt.title('July 1 - August 31, 2024: Population in different temperature categories')\n",
        "plt.legend(loc='upper right', bbox_to_anchor=(1.20, 1))\n",
        "plt.grid(True)\n",
        "\n",
        "#Make sure the legend isn't cut of when saving figure\n",
        "plt.tight_layout()\n",
        "\n",
        "#Save figure to temporary files\n",
        "plt.savefig('demo4.png')\n",
        "\n",
        "plt.show()"
      ]
    }
  ],
  "metadata": {
    "colab": {
      "provenance": [],
      "toc_visible": true
    },
    "kernelspec": {
      "display_name": "Python 3",
      "name": "python3"
    },
    "language_info": {
      "name": "python"
    }
  },
  "nbformat": 4,
  "nbformat_minor": 0
}
