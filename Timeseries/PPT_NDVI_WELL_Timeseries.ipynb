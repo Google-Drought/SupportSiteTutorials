{
  "nbformat": 4,
  "nbformat_minor": 0,
  "metadata": {
    "colab": {
      "provenance": []
    },
    "kernelspec": {
      "name": "python3",
      "display_name": "Python 3"
    },
    "language_info": {
      "name": "python"
    }
  },
  "cells": [
    {
      "cell_type": "code",
      "execution_count": null,
      "metadata": {
        "id": "BaupkKQedd2x"
      },
      "outputs": [],
      "source": [
        "#Install to run R in notebook\n",
        "!pip install rpy2==3.5.1"
      ]
    },
    {
      "cell_type": "code",
      "source": [
        "#Run to run R in Notebook\n",
        "%load_ext rpy2.ipython"
      ],
      "metadata": {
        "id": "cDqLiMckh53R"
      },
      "execution_count": null,
      "outputs": []
    },
    {
      "cell_type": "code",
      "source": [
        "#Install R packages to retrieve and process groundwater data from USGS\n",
        "%%R\n",
        "install.packages(\"dataRetrieval\")\n",
        "install.packages(\"tidyverse\")\n",
        "install.packages(\"lubridate\")\n",
        "library(dataRetrieval)\n",
        "library(tidyverse)\n",
        "library(lubridate)"
      ],
      "metadata": {
        "id": "hYz4uXQGiXLp"
      },
      "execution_count": null,
      "outputs": []
    },
    {
      "cell_type": "code",
      "source": [
        "#Install Python Packages for processing and plotting data\n",
        "import datetime\n",
        "import os\n",
        "import requests\n",
        "import time\n",
        "\n",
        "!pip install --quiet geopandas\n",
        "import pandas as pd\n",
        "import geopandas as gpd\n",
        "import matplotlib.pyplot as plt\n",
        "plt.style.use('classic')\n",
        "%matplotlib inline\n",
        "import numpy as np\n",
        "requests.packages.urllib3.disable_warnings(requests.packages.urllib3.exceptions.InsecureRequestWarning)"
      ],
      "metadata": {
        "id": "9A82o4KvigKC"
      },
      "execution_count": null,
      "outputs": []
    },
    {
      "cell_type": "code",
      "source": [
        "# Set Up for API Calls\n",
        "#Prep for API Call\n",
        "# Set root URL for API requests\n",
        "root_url = 'https://api.climateengine.org/'\n",
        "# Authentication info for the API (INSERT YOUR OWN KEY)\n",
        "headers = {'Authorization': 'INSERT YOUR API KEY HERE'}"
      ],
      "metadata": {
        "id": "xXt3zJ2MijJ0"
      },
      "execution_count": null,
      "outputs": []
    },
    {
      "cell_type": "code",
      "source": [
        "#SiteNumber\n",
        "siteNum = '380128105484401'\n",
        "\n",
        "#Coordinates of Site\n",
        "coordinates = '[[-105.812,38.024]]'"
      ],
      "metadata": {
        "id": "Xah0uE2xiklN"
      },
      "execution_count": null,
      "outputs": []
    },
    {
      "cell_type": "code",
      "source": [
        "#API Request for Data\n",
        "#Select endpoint that exports a map of values to a Google Cloud storage bucket\n",
        "Endpoint = 'timeseries/interannual/points'\n",
        "\n",
        "#Set up parameters dictionary for API call\n",
        "ndviParams = {\n",
        "    'dataset': 'LANDSAT_SR',\n",
        "    'variable': 'NDVI',\n",
        "    'start_day': '01',\n",
        "    'end_day': '31',\n",
        "    'start_month':'06',\n",
        "    'end_month':'08',\n",
        "    'start_year': '1986',\n",
        "    'end_year': '2023',\n",
        "    'coordinates': coordinates,\n",
        "    'area_reducer': 'mean',\n",
        "    'temporal_statistic': 'median'\n",
        "}\n",
        "\n",
        "# Send API request\n",
        "ndviR = requests.get(root_url + Endpoint, params=ndviParams, headers=headers, verify=False)\n",
        "ndviExport_response = ndviR.json()\n",
        "\n",
        "#Set up parameters dictionary for API call\n",
        "precipParams = {\n",
        "    'dataset': 'GRIDMET',\n",
        "    'variable': 'pr',\n",
        "    'start_day': '01',\n",
        "    'end_day': '30',\n",
        "    'start_month':'10',\n",
        "    'end_month':'09',\n",
        "    'start_year': '1986',\n",
        "    'end_year': '2023',\n",
        "    'coordinates': coordinates,\n",
        "    'area_reducer': 'mean',\n",
        "    'temporal_statistic': 'sum'\n",
        "}\n",
        "\n",
        "# Send API request\n",
        "precipR = requests.get(root_url + Endpoint, params=precipParams, headers=headers, verify=False)\n",
        "precipExport_response = precipR.json()"
      ],
      "metadata": {
        "id": "_Ym3QpFhiwy5"
      },
      "execution_count": null,
      "outputs": []
    },
    {
      "cell_type": "code",
      "source": [
        "#Process RAP Data\n",
        "#response (may need to unpack with [] around timeseries the first time)\n",
        "[timeseries1] = ndviExport_response\n",
        "[timeseries2] = precipExport_response\n",
        "\n",
        "#Select Data\n",
        "data1 = timeseries1['Data']\n",
        "data2 = timeseries2['Data']\n",
        "\n",
        "#Convert Data to Dataframe\n",
        "df1 = pd.DataFrame(data1)\n",
        "df2 = pd.DataFrame(data2)\n",
        "\n",
        "#Set Date\n",
        "date = pd.to_datetime(df1['Year'])\n",
        "\n",
        "#Assign Values\n",
        "value1 = df1['NDVI']\n",
        "value2 = df2['pr (mm)']"
      ],
      "metadata": {
        "id": "QlnApA1ikmOx"
      },
      "execution_count": null,
      "outputs": []
    },
    {
      "cell_type": "code",
      "source": [
        "#Request Well Data\n",
        "%%R\n",
        "\n",
        "#Define Parameters\n",
        "siteNo <- \"380128105484401\"\n",
        "start.date <- \"1986-01-01\"\n",
        "end.date <- \"2022-12-31\"\n",
        "\n",
        "#Create Request\n",
        "siteOutput <- readNWISgwl(siteNumbers = siteNo,\n",
        "                       startDate = start.date,\n",
        "                       endDate = end.date)\n",
        "\n",
        "#Make Request\n",
        "siteOutput <- renameNWISColumns(siteOutput)\n",
        "\n",
        "#Process Data for Plotting\n",
        "siteOutput_Proc <- siteOutput %>%\n",
        "  drop_na(lev_va) %>%\n",
        "  select(lev_dt,lev_va) %>%\n",
        "  mutate(year = year(ymd(lev_dt)), month = month(ymd(lev_dt)), day = day(ymd(lev_dt))) %>%\n",
        "  group_by(year) %>%\n",
        "  filter(month > 5 & month <9) %>%\n",
        "  summarize(JJAMean = mean(lev_va))\n",
        "\n",
        "print(siteOutput_Proc, n=39)"
      ],
      "metadata": {
        "id": "0lCmru2pmcsv"
      },
      "execution_count": null,
      "outputs": []
    },
    {
      "cell_type": "code",
      "source": [
        "#Set data to variable\n",
        "valueElse = %R siteOutput_Proc$JJAMean\n",
        "\n",
        "#Fill any missing years\n",
        "#valueElse = np.insert(valueElse,0,np.nan) #86\n",
        "\n",
        "#Convert to Dataframe\n",
        "dfElse = pd.DataFrame(valueElse)\n",
        "dfElse"
      ],
      "metadata": {
        "id": "ygadoF_uo4pu"
      },
      "execution_count": null,
      "outputs": []
    },
    {
      "cell_type": "code",
      "source": [
        "from sys import ps2\n",
        "import matplotlib.dates as mdates\n",
        "\n",
        "#Calculate Trendlines\n",
        "\n",
        "#NDVI Trend\n",
        "x1 = mdates.date2num(date)\n",
        "z1 = np.polyfit(x1, value1, 1)\n",
        "p1 = np.poly1d(z1)\n",
        "\n",
        "#Precipitation Trend\n",
        "x2 = mdates.date2num(date)\n",
        "z2 = np.polyfit(x2, value2, 1)\n",
        "p2 = np.poly1d(z2)\n",
        "\n",
        "#Groundwater Trend\n",
        "x3 = mdates.date2num(date)\n",
        "z3 = np.polyfit(x3, valueElse, 1)\n",
        "p3 = np.poly1d(z3)\n"
      ],
      "metadata": {
        "id": "YtCQfx3r7z5Z"
      },
      "execution_count": null,
      "outputs": []
    },
    {
      "cell_type": "code",
      "source": [
        "# create figure and axis objects with subplots()\n",
        "fig,ax = plt.subplots(2,figsize = (18,8))\n",
        "\n",
        "# make a plot\n",
        "ax[0].scatter(date, value1, color=\"green\", label = 'NDVI', s=10)\n",
        "ax[1].scatter(date, value2, color=\"purple\", label = 'Precipitation', s=10)\n",
        "\n",
        "ax[0].plot(date, value1, color=\"green\", label = 'NDVI')\n",
        "ax[1].plot(date, value2, color=\"purple\", label = 'Precipitation')\n",
        "\n",
        "ax[0].plot(x1, p1(x1),  linestyle = \"dotted\", color = \"green\", alpha = 0.75)\n",
        "ax[1].plot(x2, p2(x2),  linestyle = \"dotted\", color = \"purple\", alpha = 0.75)\n",
        "\n",
        "#Change Y1 Scale\n",
        "ax[0].autoscale()\n",
        "ax[1].autoscale()\n",
        "\n",
        "#Add x-axis label\n",
        "ax[0].set_xlabel(\"Year\", fontsize = 14)\n",
        "ax[1].set_xlabel(\"Year\", fontsize = 14)\n",
        "\n",
        "#Add first y-axis label\n",
        "ax[0].set_ylabel(\"NDVI\", color=\"green\", fontsize=14)\n",
        "ax[1].set_ylabel(\"Precipitation (mm)\", color=\"purple\", fontsize=14)\n",
        "\n",
        "# twin object for two different y-axis on the sample plot\n",
        "ax2=ax[0].twinx()\n",
        "ax3=ax[1].twinx()\n",
        "\n",
        "# make a plot with different y-axis using second axis object\n",
        "ax2.plot(date, valueElse, color=\"blue\")\n",
        "ax2.scatter(date, valueElse, color=\"blue\", s=10)\n",
        "ax2.plot(x3, p3(x3),  linestyle = \"dotted\", color = \"blue\", alpha = 0.75)\n",
        "ax2.margins(x=0)\n",
        "ax3.plot(date, valueElse, color=\"blue\")\n",
        "ax3.scatter(date, valueElse, color=\"blue\", s=10)\n",
        "ax3.plot(x3, p3(x3),  linestyle = \"dotted\", color = \"blue\", alpha = 0.75)\n",
        "ax3.margins(x=0)\n",
        "\n",
        "#Change Y1 Scale\n",
        "ax2.autoscale()\n",
        "ax3.autoscale()\n",
        "\n",
        "#Reverse Axis\n",
        "ax2.invert_yaxis()\n",
        "ax3.invert_yaxis()\n",
        "\n",
        "#Add Second y-axis Label\n",
        "ax2.set_ylabel(\"Depth to Groundwater (ft)\",color=\"blue\",fontsize=14)\n",
        "ax3.set_ylabel(\"Depth to Groundwater (ft)\",color=\"blue\",fontsize=14)\n",
        "\n",
        "#Add Title\n",
        "fig.suptitle('Well SiteNo' + \" \" + siteNum, fontsize=20)\n",
        "\n",
        "#Export Graph\n",
        "plt.savefig('NDVI-PPT-GW_Well' + siteNum + '.png', bbox_inches='tight')\n",
        "\n",
        "#Show Graph\n",
        "plt.show()"
      ],
      "metadata": {
        "id": "PyzPxIzlo-vq"
      },
      "execution_count": null,
      "outputs": []
    }
  ]
}