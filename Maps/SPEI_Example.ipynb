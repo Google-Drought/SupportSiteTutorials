{
  "cells": [
    {
      "cell_type": "code",
      "execution_count": null,
      "metadata": {
        "id": "3C2HVk3tqoar"
      },
      "outputs": [],
      "source": [
        "#Import Relevent Packages \n",
        "import datetime\n",
        "import os\n",
        "import requests\n",
        "import time\n",
        "     \n",
        "!pip install --quiet geopandas\n",
        "import pandas as pd\n",
        "import geopandas as gpd\n",
        "\n",
        "!pip install --quiet rasterio\n",
        "import rasterio\n",
        "import rasterio.plot\n",
        "import pyproj\n",
        "import numpy as np\n",
        "import matplotlib\n",
        "import matplotlib.pyplot as plt\n",
        "\n",
        "requests.packages.urllib3.disable_warnings(requests.packages.urllib3.exceptions.InsecureRequestWarning)"
      ]
    },
    {
      "cell_type": "code",
      "execution_count": 2,
      "metadata": {
        "id": "20HouPePSw1X"
      },
      "outputs": [],
      "source": [
        "#Import Relevent Packages\n",
        "%%capture\n",
        "if 'google.colab' in str(get_ipython()):\n",
        "    !pip install --quiet rioxarray\n",
        "\n",
        "#Install mapping packages\n",
        "import rioxarray as rxr\n",
        "from rioxarray.merge import merge_arrays\n",
        "import matplotlib.pyplot as plt\n",
        "from mpl_toolkits.axes_grid1 import make_axes_locatable"
      ]
    },
    {
      "cell_type": "code",
      "execution_count": 3,
      "metadata": {
        "id": "KBwriND_sLrQ"
      },
      "outputs": [],
      "source": [
        "#Prep for API Call\n",
        "# Set root URL for API requests\n",
        "root_url = 'https://api.climateengine.org/'\n",
        "# Authentication info for the API (INSERT YOUR OWN KEY)\n",
        "headers = {'Authorization': 'INSERT YOUR API KEY HERE'}\n",
        "# Google Storage bucket for storing output files (INSERT YOUR OWN BUCKET)\n",
        "bucket_name = 'INSERT YOUR BUCKET HERE'"
      ]
    },
    {
      "cell_type": "code",
      "execution_count": null,
      "metadata": {
        "id": "dySYml5YxfuB"
      },
      "outputs": [],
      "source": [
        "#Bring in spatial file of interest (GeoJSON, SHP) \n",
        "df = gpd.read_file('/content/Continental_US.shp')\n",
        "\n",
        " #Generate a bounding box around AOI\n",
        "bbox = df.bounds\n",
        "\n",
        "#Get values from box\n",
        "sw_long = round(bbox.iat[0,0], 6)\n",
        "sw_lat = round(bbox.iat[0,1], 6)\n",
        "ne_long = round(bbox.iat[0,2], 6)\n",
        "ne_lat = round(bbox.iat[0,3], 6)\n",
        "\n",
        "#Generate Bounding Box Coordinates String\n",
        "allot_bbox = [sw_long,sw_lat,ne_long,ne_lat]\n",
        "\n",
        "print(allot_bbox)"
      ]
    },
    {
      "cell_type": "code",
      "execution_count": null,
      "metadata": {
        "id": "Wgw36a2ll2R_"
      },
      "outputs": [],
      "source": [
        "#Select endpoint that exports a map of values to a Google Cloud storage bucket\n",
        "spei90_Endpoint = 'raster/export/values'\n",
        "\n",
        "# No need to include an extension on the export_filename below, .tif will be appended automatically.\n",
        "spei90_Export_filename = 'SPEI90Example'\n",
        "\n",
        "#Set up parameters dictionary for API call\n",
        "spei90_Params = {\n",
        "    'dataset': 'GRIDMET_DROUGHT',\n",
        "    'variable': 'spei90d',\n",
        "    'temporal_statistic': 'mean',\n",
        "    'start_date': '2023-02-19',\n",
        "    'end_date': '2023-02-19',\n",
        "    'bounding_box': f'{allot_bbox}',\n",
        "    'export_path': f'{bucket_name}/{spei90_Export_filename}'\n",
        "}\n",
        "\n",
        "# Send API request\n",
        "spei90_R = requests.get(root_url + spei90_Endpoint, params=spei90_Params, headers=headers, verify=False)\n",
        "spei90_Export_response = spei90_R.json()\n",
        "print(spei90_Export_response)\n",
        "print(spei90_R.json)\n",
        "print(spei90_R.text)\n",
        "print(spei90_R.status_code)"
      ]
    },
    {
      "cell_type": "code",
      "execution_count": null,
      "metadata": {
        "colab": {
          "base_uri": "https://localhost:8080/"
        },
        "id": "PjzEfkrlsev3",
        "outputId": "e6924169-101d-4663-ac63-ca3e694cf796"
      },
      "outputs": [],
      "source": [
        "#Select endpoint that exports a map of values to a Google Cloud storage bucket\n",
        "spei2_Endpoint = 'raster/export/values'\n",
        "# No need to include an extension on the export_filename below, .tif will be appended automatically.\n",
        "spei2_Export_filename = 'SPEI2Example'\n",
        "\n",
        "#Set up parameters dictionary for API call\n",
        "spei2_Params = {\n",
        "    'dataset': 'GRIDMET_DROUGHT',\n",
        "    'variable': 'spi2y',\n",
        "    'temporal_statistic': 'mean',\n",
        "    'start_date': '2023-02-19',\n",
        "    'end_date': '2023-02-19',\n",
        "    'bounding_box': f'{allot_bbox}',\n",
        "    'export_path': f'{bucket_name}/{spei2_Export_filename}'\n",
        "}\n",
        "# Send API request\n",
        "spei2_R = requests.get(root_url + spei2_Endpoint, params=spei2_Params, headers=headers, verify=False)\n",
        "spei2_Export_response = spei2_R.json()\n",
        "print(spei2_Export_response)\n",
        "print(spei2_R.json)\n",
        "print(spei2_R.text)\n",
        "print(spei2_R.status_code)"
      ]
    },
    {
      "cell_type": "code",
      "execution_count": null,
      "metadata": {
        "id": "HNUYo8elsjZG"
      },
      "outputs": [],
      "source": [
        "#Connect to GCS\n",
        "#Get access to Google Cloud Storage Bucket \n",
        "from google.colab import auth\n",
        "auth.authenticate_user()\n",
        "\n",
        "# https://cloud.google.com/resource-manager/docs/creating-managing-projects\n",
        "project_id = 'ADD YOUR GOOGLE PROJECT ID HERE'\n",
        "!gcloud config set project {project_id}"
      ]
    },
    {
      "cell_type": "code",
      "execution_count": null,
      "metadata": {
        "id": "D0fPnYqHsrHi"
      },
      "outputs": [],
      "source": [
        "#Bring in Rasters from GCS\n",
        "# Download the file from a given Google Cloud Storage bucket.\n",
        "!gsutil cp gs://{bucket_name}/{spei90_Export_filename}.tif /content/SPEI90Example.tif\n",
        "# Download the file from a given Google Cloud Storage bucket.\n",
        "!gsutil cp gs://{bucket_name}/{spei2_Export_filename}.tif /content/SPEI2Example.tif"
      ]
    },
    {
      "cell_type": "code",
      "execution_count": 9,
      "metadata": {
        "id": "Y45sDiHj8g0n"
      },
      "outputs": [],
      "source": [
        "#Define file path and read in raster\n",
        "file_path1 = '/content/SPEI90Example.tif'\n",
        "file_path2 = '/content/SPEI2Example.tif'\n",
        "rds = rxr.open_rasterio(file_path1)\n",
        "rds1 = rxr.open_rasterio(file_path2)"
      ]
    },
    {
      "cell_type": "code",
      "execution_count": null,
      "metadata": {
        "colab": {
          "base_uri": "https://localhost:8080/",
          "height": 401
        },
        "id": "u1bI6YzC8Q99",
        "outputId": "037c34ee-a48c-44e7-e594-173d152a3611"
      },
      "outputs": [],
      "source": [
        "#Make Maps\n",
        "# Generate Map \n",
        "fig, ax = plt.subplots()\n",
        "fig.set_size_inches(15, 13)\n",
        "divider = make_axes_locatable(ax)\n",
        "cax = divider.append_axes('right', size='5%', pad=0.05)\n",
        "im = ax.imshow(rds[0], cmap ='Spectral', vmin = -2.5, vmax = 2.5)\n",
        "\n",
        "#Add Color Bar\n",
        "fig.colorbar(im, cax = cax, orientation = 'vertical')\n",
        "\n",
        "#Add Title\n",
        "ax.set_title('SPEI 90 day: gridMET Drought - Nonparametric Distribution (02-19-2023)', fontsize =16)\n",
        "\n",
        "#Add Figure Export Option\n",
        "#plt.savefig('SPEI_90_Drought.png', bbox_inches='tight')\n",
        "\n",
        "#Show Map\n",
        "plt.show()"
      ]
    },
    {
      "cell_type": "code",
      "execution_count": null,
      "metadata": {
        "colab": {
          "base_uri": "https://localhost:8080/",
          "height": 401
        },
        "id": "coDgZjh41QdJ",
        "outputId": "a572f663-74d2-47cd-e2cb-6e53f8428267"
      },
      "outputs": [],
      "source": [
        "# Generate Map \n",
        "fig, ax = plt.subplots()\n",
        "fig.set_size_inches(15, 13)\n",
        "divider = make_axes_locatable(ax)\n",
        "cax = divider.append_axes('right', size='5%', pad=0.05)\n",
        "im = ax.imshow(rds1[0], cmap ='Spectral', vmin =-2.5, vmax = 2.5)\n",
        "\n",
        "#Add Color Bar\n",
        "fig.colorbar(im, cax = cax, orientation = 'vertical')\n",
        "\n",
        "#Add Title\n",
        "ax.set_title('SPEI 2 yr: gridMET Drought - Nonparametric Distribution (02-19-2023)', fontsize =16)\n",
        "\n",
        "#Add Figure Export Option\n",
        "plt.savefig('SPEI_2yr_Drought.png', bbox_inches='tight')\n",
        "\n",
        "#Show Map\n",
        "plt.show()"
      ]
    }
  ],
  "metadata": {
    "colab": {
      "provenance": []
    },
    "kernelspec": {
      "display_name": "Python 3",
      "name": "python3"
    },
    "language_info": {
      "name": "python"
    }
  },
  "nbformat": 4,
  "nbformat_minor": 0
}
