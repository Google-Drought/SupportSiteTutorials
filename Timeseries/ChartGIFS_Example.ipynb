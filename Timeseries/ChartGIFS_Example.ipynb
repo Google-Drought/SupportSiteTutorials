{
  "cells": [
    {
      "cell_type": "code",
      "execution_count": null,
      "metadata": {
        "colab": {
          "base_uri": "https://localhost:8080/"
        },
        "id": "KpEkm5VmdnJk",
        "outputId": "bd1f7277-a1d2-4184-d9dc-e337f5ee91b5"
      },
      "outputs": [],
      "source": [
        "#Import/Install Packages\n",
        "import datetime\n",
        "import os\n",
        "import requests\n",
        "import time\n",
        "      \n",
        "!pip install --quiet geopandas\n",
        "import pandas as pd\n",
        "import geopandas as gpd\n",
        "import matplotlib.pyplot as plt\n",
        "plt.style.use('classic')\n",
        "%matplotlib inline\n",
        "import numpy as np\n",
        "requests.packages.urllib3.disable_warnings(requests.packages.urllib3.exceptions.InsecureRequestWarning)"
      ]
    },
    {
      "cell_type": "code",
      "execution_count": 2,
      "metadata": {
        "id": "kTegc2CIf1X_"
      },
      "outputs": [],
      "source": [
        "# Set root URL for API requests\n",
        "root_url = 'https://api.climateengine.org/'\n",
        "# Authentication info for the API (INSERT YOUR OWN KEY)\n",
        "headers = {'Authorization': 'INSERT YOUR API KEY HERE'}"
      ]
    },
    {
      "cell_type": "code",
      "execution_count": 5,
      "metadata": {
        "colab": {
          "base_uri": "https://localhost:8080/"
        },
        "id": "Eqh_z7NVf2j2",
        "outputId": "57666e9c-2243-4d01-d281-0b9aa78511d0"
      },
      "outputs": [
        {
          "name": "stdout",
          "output_type": "stream",
          "text": [
            "[{'Metadata': {'name': 'Central Lahontan', 'Statistic over region': 'mean'}, 'Data': [{'Date': '2000-01-01', 'AFG (%)': 6.7164}, {'Date': '2001-01-01', 'AFG (%)': 5.6025}, {'Date': '2002-01-01', 'AFG (%)': 5.4182}, {'Date': '2003-01-01', 'AFG (%)': 6.0174}, {'Date': '2004-01-01', 'AFG (%)': 4.8305}, {'Date': '2005-01-01', 'AFG (%)': 11.3079}, {'Date': '2006-01-01', 'AFG (%)': 11.5944}, {'Date': '2007-01-01', 'AFG (%)': 7.0801}, {'Date': '2008-01-01', 'AFG (%)': 6.0217}, {'Date': '2009-01-01', 'AFG (%)': 5.0441}, {'Date': '2010-01-01', 'AFG (%)': 10.1129}, {'Date': '2011-01-01', 'AFG (%)': 15.5843}, {'Date': '2012-01-01', 'AFG (%)': 8.0884}, {'Date': '2013-01-01', 'AFG (%)': 6.7211}, {'Date': '2014-01-01', 'AFG (%)': 6.1997}, {'Date': '2015-01-01', 'AFG (%)': 7.412}, {'Date': '2016-01-01', 'AFG (%)': 15.5703}, {'Date': '2017-01-01', 'AFG (%)': 17.789}, {'Date': '2018-01-01', 'AFG (%)': 12.3092}, {'Date': '2019-01-01', 'AFG (%)': 12.7749}, {'Date': '2020-01-01', 'AFG (%)': 9.2413}, {'Date': '2021-01-01', 'AFG (%)': 7.2135}]}]\n"
          ]
        }
      ],
      "source": [
        "#RAP Timeseries \n",
        "# Endpoint\n",
        "endpoint1 = 'timeseries/native/custom_asset'\n",
        "\n",
        "# Set up parameters for API call\n",
        "params1 = {\n",
        "    'dataset': 'RAP_COVER',\n",
        "    'variable': 'AFG',\n",
        "    'start_date': '2000-01-01' ,\n",
        "    'end_date': '2022-12-31',\n",
        "    'asset_id': 'TIGER/2018/States',\n",
        "    'filter_by': 'NAME',\n",
        "    'sub_choices': 'Nevada',\n",
        "    'area_reducer': 'mean'\n",
        "}\n",
        "# Send request to the API\n",
        "r1 = requests.get(root_url + endpoint1, params=params1, headers=headers, verify=False)\n",
        "response1 = r1.json()\n",
        "print(response1)"
      ]
    },
    {
      "cell_type": "code",
      "execution_count": 6,
      "metadata": {
        "colab": {
          "base_uri": "https://localhost:8080/"
        },
        "id": "FBqpJfVJid_l",
        "outputId": "cb56643c-78c7-4863-9d7b-c85e8c1ff552"
      },
      "outputs": [
        {
          "name": "stdout",
          "output_type": "stream",
          "text": [
            "         Date  AFG (%)\n",
            "0  2000-01-01   6.7164\n",
            "1  2001-01-01   5.6025\n",
            "2  2002-01-01   5.4182\n",
            "3  2003-01-01   6.0174\n",
            "4  2004-01-01   4.8305\n",
            "5  2005-01-01  11.3079\n",
            "6  2006-01-01  11.5944\n",
            "7  2007-01-01   7.0801\n",
            "8  2008-01-01   6.0217\n",
            "9  2009-01-01   5.0441\n",
            "10 2010-01-01  10.1129\n",
            "11 2011-01-01  15.5843\n",
            "12 2012-01-01   8.0884\n",
            "13 2013-01-01   6.7211\n",
            "14 2014-01-01   6.1997\n",
            "15 2015-01-01   7.4120\n",
            "16 2016-01-01  15.5703\n",
            "17 2017-01-01  17.7890\n",
            "18 2018-01-01  12.3092\n",
            "19 2019-01-01  12.7749\n",
            "20 2020-01-01   9.2413\n",
            "21 2021-01-01   7.2135\n"
          ]
        }
      ],
      "source": [
        "#response (may need to unpack with [] around timeseries the first time)\n",
        "[timeseries1] = response1\n",
        "\n",
        "#Select Data\n",
        "data1 = timeseries1['Data']\n",
        "\n",
        "# Convert to dataframe\n",
        "df1 = pd.DataFrame.from_dict(data1)\n",
        "\n",
        "#Format dates for plotting\n",
        "df1['Date'] = pd.to_datetime(df1['Date'])\n",
        "print(df1)"
      ]
    },
    {
      "cell_type": "code",
      "execution_count": 7,
      "metadata": {
        "id": "vhmlRZK_XEEf"
      },
      "outputs": [],
      "source": [
        "import matplotlib.pyplot as plt\n",
        "import matplotlib as mt\n",
        "import imageio"
      ]
    },
    {
      "cell_type": "code",
      "execution_count": 9,
      "metadata": {
        "id": "52CmY-XCYQzl"
      },
      "outputs": [],
      "source": [
        "x1 = df1['Date']\n",
        "y1 = df1['AFG (%)']\n",
        "time = [0,1,2,3,4,5,6,7,8,9,10,11,12,13,14,15,16,17,18,19,20,21,22,23,24,25,26,27,28,29,30,31,32,33,34,35]"
      ]
    },
    {
      "cell_type": "code",
      "execution_count": 15,
      "metadata": {
        "id": "tf3VuGAhX2O2"
      },
      "outputs": [],
      "source": [
        "def create_frame(t):\n",
        "    fig = plt.figure(figsize=(12, 6))\n",
        "    axes = fig.add_subplot(1,1,1,)\n",
        "    formatter = mt.dates.DateFormatter('%Y')\n",
        "    axes.plot(x1[:(t+1)], y1[:(t+1)], color = 'red' )\n",
        "    axes.plot(x1[t], y1[t], color = 'black', marker = 'o' )\n",
        "    axes.xaxis.set_major_formatter(formatter)\n",
        "    plt.xlabel('Year', fontsize = 14)\n",
        "    plt.ylim([0,20])\n",
        "    plt.ylabel('Percent Cover', fontsize = 14)\n",
        "    plt.title(f'Nevada RAP AFG Mean Cover (1986 - 2021)',\n",
        "              fontsize=14)\n",
        "    plt.tick_params(top = False, right = False)\n",
        "    plt.savefig(f'/content/img-{t}.png', \n",
        "                transparent = False,  \n",
        "                facecolor = 'white'\n",
        "               )\n",
        "    plt.close()"
      ]
    },
    {
      "cell_type": "code",
      "execution_count": 16,
      "metadata": {
        "id": "5XIs3z6EYJoV"
      },
      "outputs": [],
      "source": [
        "for t in time:\n",
        "    create_frame(t)"
      ]
    },
    {
      "cell_type": "code",
      "execution_count": 17,
      "metadata": {
        "id": "oZS0mRcUZVjD"
      },
      "outputs": [],
      "source": [
        "frames = []\n",
        "for t in time:\n",
        "    image = imageio.v2.imread(f'/content/img-{t}.png')\n",
        "    frames.append(image)"
      ]
    },
    {
      "cell_type": "code",
      "execution_count": 20,
      "metadata": {
        "id": "qI3miiwfZdRr"
      },
      "outputs": [],
      "source": [
        "imageio.mimsave('/content/NEV_AFG_Example.gif', # output gif\n",
        "                frames,          # array of input frames\n",
        "                fps = 2 )        # optional: frames per second  using loop = x   "
      ]
    }
  ],
  "metadata": {
    "colab": {
      "provenance": []
    },
    "kernelspec": {
      "display_name": "Python 3",
      "name": "python3"
    },
    "language_info": {
      "name": "python"
    }
  },
  "nbformat": 4,
  "nbformat_minor": 0
}
