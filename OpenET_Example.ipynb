{
  "cells": [
    {
      "cell_type": "code",
      "execution_count": 79,
      "metadata": {
        "id": "_6xKcz8DVhZd"
      },
      "outputs": [],
      "source": [
        "#Import/Install Packages\n",
        "import datetime\n",
        "import os\n",
        "import requests\n",
        "import time\n",
        "import json\n",
        "      \n",
        "!pip install --quiet geopandas\n",
        "import pandas as pd\n",
        "import geopandas as gpd\n",
        "import matplotlib.pyplot as plt\n",
        "plt.style.use('classic')\n",
        "%matplotlib inline\n",
        "import numpy as np\n",
        "requests.packages.urllib3.disable_warnings(requests.packages.urllib3.exceptions.InsecureRequestWarning)"
      ]
    },
    {
      "cell_type": "code",
      "execution_count": 80,
      "metadata": {
        "id": "EY4wPs6cRVBn"
      },
      "outputs": [],
      "source": [
        "#Prep for API Call\n",
        "# Set root URL for API requests\n",
        "root_url = 'https://api.climateengine.org/'\n",
        "# Authentication info for the API (INSERT YOUR OWN KEY)\n",
        "headers = {'Authorization': 'INSERT YOUR API KEY HERE'}\n",
        "     "
      ]
    },
    {
      "cell_type": "code",
      "execution_count": null,
      "metadata": {
        "colab": {
          "base_uri": "https://localhost:8080/"
        },
        "id": "5qHBJZ74VojQ",
        "outputId": "8b42f076-3f02-4af3-863c-97c337a08f9b"
      },
      "outputs": [],
      "source": [
        "#Initialize Earth Engine to use AOI Asset \n",
        "# import Google earth engine module\n",
        "import ee\n",
        "ee.Authenticate()\n",
        "#Authenticate the Google earth engine with google account\n",
        "ee.Initialize()"
      ]
    },
    {
      "cell_type": "code",
      "execution_count": null,
      "metadata": {
        "colab": {
          "base_uri": "https://localhost:8080/"
        },
        "id": "29ZzvvS6VNvj",
        "outputId": "8cebacb2-a09f-44f7-b3b6-f3ba1f15de96"
      },
      "outputs": [],
      "source": [
        "# Mount Google Drive for exporting CSVs + PNGs\n",
        "from google.colab import drive\n",
        "drive.mount('/content/drive')"
      ]
    },
    {
      "cell_type": "code",
      "execution_count": null,
      "metadata": {
        "colab": {
          "base_uri": "https://localhost:8080/"
        },
        "id": "EEvUq_pdVsdg",
        "outputId": "e15ea6b5-3f7e-485f-e039-35bde717c315"
      },
      "outputs": [],
      "source": [
        "#Create list of aoi names (INSERT YOUR OWN ASSET OF INTEREST AND UPDATE PROPERTY TO LOOP THROUGH)\n",
        "#Reminder - Make sure to give \"anyone can read\" access to your asset \n",
        "aoi_names = ee.FeatureCollection(\"projects/ee-kristenoshea/assets/fieldAOI\").aggregate_array(\"FieldID\").getInfo()\n",
        "print(aoi_names)"
      ]
    },
    {
      "cell_type": "code",
      "execution_count": null,
      "metadata": {
        "id": "ydjqjHpXWVjz"
      },
      "outputs": [],
      "source": [
        "#Write Function \n",
        "def write_openet_timeseries(aoi):\n",
        "  \n",
        "  #Set Dataset Name as Variable\n",
        "  dataset = \"OPENET_CONUS\"\n",
        "\n",
        "  print(\"Making Request for \" + str(aoi))\n",
        "\n",
        "  #Make a list of ET Model Options\n",
        "  models = ['et_eemetric','et_ssebop','et_sims','et_geesebal','et_ptjpl','et_disalexi']\n",
        "\n",
        "  #Make an empty list\n",
        "  series = []\n",
        "\n",
        "  #Climate Engine API Point \n",
        "  endpoint = 'timeseries/native/custom_asset'\n",
        "\n",
        "  #Define Parameters\n",
        "  for variable in models:\n",
        "    params = {\n",
        "      'dataset': dataset,\n",
        "      'variable': variable,\n",
        "      'start_date': '2016-01-01',\n",
        "      'end_date': '2021-12-01',\n",
        "      'asset_id': 'projects/ee-kristenoshea/assets/fieldAOI',\n",
        "      'area_reducer': 'mean',\n",
        "      'filter_by': 'FieldID',\n",
        "      'sub_choices': json.dumps(aoi)\n",
        "     }\n",
        "    # Send request to the API \n",
        "    r = requests.get(root_url + endpoint, params=params, headers=headers, verify=True)\n",
        "    response = r.json()\n",
        "    #print(response)\n",
        "    \n",
        "    #response (may need to unpack with [] around timeseries the first time)\n",
        "    [timeseries] = response\n",
        "\n",
        "    #Select Data\n",
        "    data = timeseries['Data']\n",
        "    \n",
        "    #Convert to Data Frame\n",
        "    df = pd.DataFrame(data)\n",
        "    \n",
        "    #Select as Series\n",
        "    date = df.iloc[:,0]\n",
        "    value = df.iloc[:,1]\n",
        "\n",
        "    #Append series to blank list\n",
        "    series.append(date)\n",
        "    series.append(value)\n",
        "\n",
        "  #Create Dataframe from List \n",
        "  DF = pd.DataFrame(series)\n",
        "\n",
        "  #Drop Duplicate Date Columns\n",
        "  DF = DF.T.loc[:,~DF.T.columns.duplicated()]\n",
        "\n",
        "  print(DF)\n",
        "\n",
        "  #Format dates for plotting\n",
        "  DF['Date'] = pd.to_datetime(DF['Date'])\n",
        "\n",
        "  #Date Value for Plottig\n",
        "  date_plot = DF['Date']\n",
        "\n",
        "  #Model Values\n",
        "  et_eemetric = DF[\"et_eemetric (mm)\"]\n",
        "  et_ssebop = DF[\"et_ssebop (mm)\"]\n",
        "  et_sims = DF[\"et_sims (mm)\"]\n",
        "  et_geesebal = DF[\"et_geesebal (mm)\"]\n",
        "  et_ptjpl = DF[\"et_ptjpl (mm)\"]\n",
        "  et_disalexi = DF[\"et_disalexi (mm)\"]\n",
        "\n",
        "  #Generate graph\n",
        "  fig, ax = plt.subplots(figsize=(18,6),facecolor='white')\n",
        "  name = str(aoi)\n",
        "  ax.plot(date_plot, et_eemetric, label = 'et_eemetric')  \n",
        "  ax.plot(date_plot, et_ssebop, label = 'et_ssebop') \n",
        "  ax.plot(date_plot, et_sims, label = 'et_sims') \n",
        "  ax.plot(date_plot, et_geesebal, label = 'et_geesebal') \n",
        "  ax.plot(date_plot, et_ptjpl, label = 'et_ptjpl') \n",
        "  ax.plot(date_plot, et_disalexi, label = 'et_disalexi') \n",
        "\n",
        "  #Add x-axis label\n",
        "  plt.xlabel(\"Dates\")\n",
        "                      \n",
        "  #Add y-axis label\n",
        "  plt.ylabel('mm')\n",
        "  plt.ylim(0,250)\n",
        "           \n",
        "  #Add Title\n",
        "  plt.title('ET Models Demo', fontsize = 16)\n",
        "\n",
        "  #Add Legend \n",
        "  plt.legend(bbox_to_anchor= (1.1, 1.1),loc='upper right', borderaxespad=0)\n",
        "\n",
        "  #Show\n",
        "  plt.show()\n",
        "\n",
        "  print(\"Exporting CSV for \" + str(aoi))\n",
        "  DF.to_csv(\"/content/drive/MyDrive/API_Testing/\" + str(aoi) + \"_\" + dataset + \".csv\")\n",
        "  plt.savefig(\"/content/drive/MyDrive/API_Testing/\" + str(aoi) + \"_\" + dataset + \".png\")"
      ]
    },
    {
      "cell_type": "code",
      "execution_count": null,
      "metadata": {
        "colab": {
          "base_uri": "https://localhost:8080/",
          "height": 1000
        },
        "id": "mu6SH_QmZYus",
        "outputId": "a368abbe-e30b-4f76-92da-d86df79cea09"
      },
      "outputs": [],
      "source": [
        "# Loop over allotment names to timeseries CSVs \n",
        "for i in aoi_names:\n",
        "  write_openet_timeseries(i, dataset)"
      ]
    }
  ],
  "metadata": {
    "colab": {
      "provenance": []
    },
    "kernelspec": {
      "display_name": "Python 3",
      "name": "python3"
    },
    "language_info": {
      "name": "python"
    }
  },
  "nbformat": 4,
  "nbformat_minor": 0
}
