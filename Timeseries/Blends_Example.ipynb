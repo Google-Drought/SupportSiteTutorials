{
  "cells": [
    {
      "cell_type": "code",
      "execution_count": null,
      "metadata": {
        "id": "zE26chNkQQao"
      },
      "outputs": [],
      "source": [
        "#Import/Install Packages\n",
        "import datetime\n",
        "import os\n",
        "import requests\n",
        "import time\n",
        "      \n",
        "!pip install --quiet geopandas\n",
        "import pandas as pd\n",
        "import geopandas as gpd\n",
        "import matplotlib.pyplot as plt\n",
        "plt.style.use('classic')\n",
        "%matplotlib inline\n",
        "import numpy as np\n",
        "requests.packages.urllib3.disable_warnings(requests.packages.urllib3.exceptions.InsecureRequestWarning)"
      ]
    },
    {
      "cell_type": "code",
      "execution_count": 3,
      "metadata": {
        "id": "us8108okQoGs"
      },
      "outputs": [],
      "source": [
        "# Set root URL for API requests\n",
        "root_url = 'https://api.climateengine.org/'\n",
        "# Authentication info for the API (INSERT YOUR OWN KEY)\n",
        "headers = {'Authorization': 'INSERT YOUR API KEY HERE'}"
      ]
    },
    {
      "cell_type": "code",
      "execution_count": 11,
      "metadata": {
        "id": "UiGZW7bgQrFN"
      },
      "outputs": [],
      "source": [
        "#Long Term Drought Blend Timeseries \n",
        "# Endpoint\n",
        "endpoint1 = 'timeseries/native/points'\n",
        "\n",
        "# Set up parameters for API call\n",
        "params1 = {\n",
        "    'dataset': 'GRIDMET_DROUGHT',\n",
        "    'variable': 'long_term_blend',\n",
        "    'start_date': '1980-01-01' ,\n",
        "    'end_date': '2022-12-31',\n",
        "    'coordinates': '[[-121.98,39.03]]',\n",
        "    'area_reducer': 'mean'\n",
        "}\n",
        "# Send request to the API\n",
        "r1 = requests.get(root_url + endpoint1, params=params1, headers=headers, verify=False)\n",
        "response1 = r1.json()"
      ]
    },
    {
      "cell_type": "code",
      "execution_count": null,
      "metadata": {
        "id": "isgv96iqR2of"
      },
      "outputs": [],
      "source": [
        "#response (may need to unpack with [] around timeseries the first time)\n",
        "[timeseries] = response1\n",
        "\n",
        "#Select Data\n",
        "data = timeseries['Data']\n",
        "\n",
        "# Convert to dataframe\n",
        "df1 = pd.DataFrame.from_dict(data)\n",
        "print(df1)\n",
        "\n",
        "#Export CSV\n",
        "#df1.to_csv('ltb_mean_42year.csv')\n",
        "\n",
        "#Filter out non-available data i.e. values of -9999.000\n",
        "df2 = df1[df1['long_term_blend']>-10]\n",
        "\n",
        "#Format dates for plotting\n",
        "df2['Date'] = pd.to_datetime(df2['Date'])\n",
        "\n",
        "#Set x values to date variable\n",
        "date1 = df2['Date']\n",
        "\n",
        "#Set y values to value variable\n",
        "value1 = df2['long_term_blend']"
      ]
    },
    {
      "cell_type": "code",
      "execution_count": 13,
      "metadata": {
        "id": "Mcd3N1CiUJjN"
      },
      "outputs": [],
      "source": [
        "#Long Term Drought Blend Timeseries \n",
        "# Endpoint\n",
        "endpoint2 = 'timeseries/native/points'\n",
        "\n",
        "# Set up parameters for API call\n",
        "params2 = {\n",
        "    'dataset': 'GRIDMET_DROUGHT',\n",
        "    'variable': 'short_term_blend',\n",
        "    'start_date': '1980-01-01' ,\n",
        "    'end_date': '2022-12-31',\n",
        "    'coordinates': '[[-121.98,39.03]]',\n",
        "    'area_reducer': 'mean'\n",
        "}\n",
        "# Send request to the API\n",
        "r2 = requests.get(root_url + endpoint2, params=params2, headers=headers, verify=False)\n",
        "response2 = r2.json()"
      ]
    },
    {
      "cell_type": "code",
      "execution_count": null,
      "metadata": {
        "id": "iUxzOTNlU0ba"
      },
      "outputs": [],
      "source": [
        "#response (may need to unpack with [] around timeseries the first time)\n",
        "[timeseries] = response2\n",
        "\n",
        "#Select Data\n",
        "data = timeseries['Data']\n",
        "\n",
        "# Convert to dataframe\n",
        "df1 = pd.DataFrame.from_dict(data)\n",
        "print(df1)\n",
        "\n",
        "#Export CSV\n",
        "#df1.to_csv('stb_mean_42year.csv')\n",
        "\n",
        "#Filter out non-available data i.e. values of -9999.000\n",
        "df2 = df1[df1['short_term_blend']>-10]\n",
        "\n",
        "#Format dates for plotting\n",
        "df2['Date'] = pd.to_datetime(df2['Date'])\n",
        "\n",
        "#Set x values to date variable\n",
        "date2 = df2['Date']\n",
        "\n",
        "#Set y values to value variable\n",
        "value2 = df2['short_term_blend']"
      ]
    },
    {
      "cell_type": "code",
      "execution_count": null,
      "metadata": {
        "id": "DW2sN254Vh9H"
      },
      "outputs": [],
      "source": [
        "# create figure and axis objects with subplots()\n",
        "fig,ax = plt.subplots(figsize = (18,8))\n",
        "\n",
        "# make a plot\n",
        "ax.plot(date1, value1, color=\"blue\")\n",
        "\n",
        "#Change Y1 Scale\n",
        "ax.set_ylim(-4,4)\n",
        "\n",
        "#Add x-axis label\n",
        "ax.set_xlabel(\"year\", fontsize = 14)\n",
        "\n",
        "#Add first y-axis label\n",
        "ax.set_ylabel(\"Long Term Blend\", color=\"blue\", fontsize=14)\n",
        "\n",
        "# twin object for two different y-axis on the sample plot\n",
        "ax2=ax.twinx()\n",
        "\n",
        "# make a plot with different y-axis using second axis object\n",
        "ax2.plot(date2, value2, color=\"green\")\n",
        "\n",
        "#Change Y1 Scale\n",
        "ax2.set_ylim(-4,4)\n",
        "\n",
        "#Add Second y-axis Label\n",
        "ax2.set_ylabel(\"Short Term Blend\",color=\"green\",fontsize=14)\n",
        "\n",
        "#Add Title\n",
        "plt.title('Long-term vs. Short-Term Blend: gridMET Drought (1980 - 2022)')\n",
        "\n",
        "#Export Graph\n",
        "plt.savefig('Two_Variable_Blend_Plot.png', bbox_inches='tight')\n",
        "\n",
        "#Show Graph\n",
        "plt.show()"
      ]
    }
  ],
  "metadata": {
    "colab": {
      "provenance": []
    },
    "kernelspec": {
      "display_name": "Python 3",
      "name": "python3"
    },
    "language_info": {
      "name": "python"
    }
  },
  "nbformat": 4,
  "nbformat_minor": 0
}
