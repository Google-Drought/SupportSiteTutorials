{
  "cells": [
    {
      "cell_type": "code",
      "execution_count": 45,
      "metadata": {
        "colab": {
          "base_uri": "https://localhost:8080/",
          "height": 18
        },
        "id": "aqzzbvR8eney",
        "outputId": "01a5378f-65ae-4ec4-d4d6-f42bbbdd070a"
      },
      "outputs": [
        {
          "data": {
            "text/html": [
              "\n",
              "            <style>\n",
              "                .geemap-dark {\n",
              "                    --jp-widgets-color: white;\n",
              "                    --jp-widgets-label-color: white;\n",
              "                    --jp-ui-font-color1: white;\n",
              "                    --jp-layout-color2: #454545;\n",
              "                    background-color: #383838;\n",
              "                }\n",
              "\n",
              "                .geemap-dark .jupyter-button {\n",
              "                    --jp-layout-color3: #383838;\n",
              "                }\n",
              "\n",
              "                .geemap-colab {\n",
              "                    background-color: var(--colab-primary-surface-color, white);\n",
              "                }\n",
              "\n",
              "                .geemap-colab .jupyter-button {\n",
              "                    --jp-layout-color3: var(--colab-primary-surface-color, white);\n",
              "                }\n",
              "            </style>\n",
              "            "
            ],
            "text/plain": [
              "<IPython.core.display.HTML object>"
            ]
          },
          "metadata": {},
          "output_type": "display_data"
        }
      ],
      "source": [
        " #Install Packages\n",
        " !pip install --quiet rioxarray\n",
        " !pip install --quiet rasterio"
      ]
    },
    {
      "cell_type": "code",
      "execution_count": 26,
      "metadata": {
        "colab": {
          "base_uri": "https://localhost:8080/",
          "height": 18
        },
        "id": "2UYMH7Jv83eo",
        "outputId": "91b9b672-e698-4f63-e679-e7be9b491028"
      },
      "outputs": [
        {
          "data": {
            "text/html": [
              "\n",
              "            <style>\n",
              "                .geemap-dark {\n",
              "                    --jp-widgets-color: white;\n",
              "                    --jp-widgets-label-color: white;\n",
              "                    --jp-ui-font-color1: white;\n",
              "                    --jp-layout-color2: #454545;\n",
              "                    background-color: #383838;\n",
              "                }\n",
              "\n",
              "                .geemap-dark .jupyter-button {\n",
              "                    --jp-layout-color3: #383838;\n",
              "                }\n",
              "\n",
              "                .geemap-colab {\n",
              "                    background-color: var(--colab-primary-surface-color, white);\n",
              "                }\n",
              "\n",
              "                .geemap-colab .jupyter-button {\n",
              "                    --jp-layout-color3: var(--colab-primary-surface-color, white);\n",
              "                }\n",
              "            </style>\n",
              "            "
            ],
            "text/plain": [
              "<IPython.core.display.HTML object>"
            ]
          },
          "metadata": {},
          "output_type": "display_data"
        }
      ],
      "source": [
        "#Import Packages\n",
        "import requests\n",
        "import geopandas as gpd\n",
        "import rasterio\n",
        "import rasterio.plot\n",
        "import numpy as np\n",
        "import matplotlib\n",
        "import matplotlib.pyplot as plt\n",
        "import rioxarray as rxr\n",
        "from rioxarray.merge import merge_arrays\n",
        "from mpl_toolkits.axes_grid1 import make_axes_locatable"
      ]
    },
    {
      "cell_type": "code",
      "execution_count": 3,
      "metadata": {
        "colab": {
          "base_uri": "https://localhost:8080/",
          "height": 18
        },
        "id": "QW8o-UjY871n",
        "outputId": "fdda560c-3dd5-4bc1-c512-8415870b5520"
      },
      "outputs": [
        {
          "data": {
            "text/html": [
              "\n",
              "            <style>\n",
              "                .geemap-dark {\n",
              "                    --jp-widgets-color: white;\n",
              "                    --jp-widgets-label-color: white;\n",
              "                    --jp-ui-font-color1: white;\n",
              "                    --jp-layout-color2: #454545;\n",
              "                    background-color: #383838;\n",
              "                }\n",
              "\n",
              "                .geemap-dark .jupyter-button {\n",
              "                    --jp-layout-color3: #383838;\n",
              "                }\n",
              "\n",
              "                .geemap-colab {\n",
              "                    background-color: var(--colab-primary-surface-color, white);\n",
              "                }\n",
              "\n",
              "                .geemap-colab .jupyter-button {\n",
              "                    --jp-layout-color3: var(--colab-primary-surface-color, white);\n",
              "                }\n",
              "            </style>\n",
              "            "
            ],
            "text/plain": [
              "<IPython.core.display.HTML object>"
            ]
          },
          "metadata": {},
          "output_type": "display_data"
        }
      ],
      "source": [
        "#Set up for API Requests\n",
        "# Set root URL for API requests\n",
        "root_url = 'https://api.climateengine.org/'\n",
        "# Authentication info for the API (INSERT YOUR OWN KEY)\n",
        "headers = {'Authorization': ''}\n",
        "# Google Storage bucket for storing output files (INSERT YOUR OWN BUCKET)\n",
        "bucket_name = ''"
      ]
    },
    {
      "cell_type": "code",
      "execution_count": 7,
      "metadata": {
        "colab": {
          "base_uri": "https://localhost:8080/",
          "height": 34
        },
        "id": "EF4PoF-IaXZZ",
        "outputId": "cb30ae4b-b16d-4e5b-8e83-66eee1cec7ee"
      },
      "outputs": [
        {
          "data": {
            "text/html": [
              "\n",
              "            <style>\n",
              "                .geemap-dark {\n",
              "                    --jp-widgets-color: white;\n",
              "                    --jp-widgets-label-color: white;\n",
              "                    --jp-ui-font-color1: white;\n",
              "                    --jp-layout-color2: #454545;\n",
              "                    background-color: #383838;\n",
              "                }\n",
              "\n",
              "                .geemap-dark .jupyter-button {\n",
              "                    --jp-layout-color3: #383838;\n",
              "                }\n",
              "\n",
              "                .geemap-colab {\n",
              "                    background-color: var(--colab-primary-surface-color, white);\n",
              "                }\n",
              "\n",
              "                .geemap-colab .jupyter-button {\n",
              "                    --jp-layout-color3: var(--colab-primary-surface-color, white);\n",
              "                }\n",
              "            </style>\n",
              "            "
            ],
            "text/plain": [
              "<IPython.core.display.HTML object>"
            ]
          },
          "metadata": {},
          "output_type": "display_data"
        },
        {
          "name": "stdout",
          "output_type": "stream",
          "text": [
            "[-124.725839, 24.498131, -66.949895, 49.384358]\n"
          ]
        }
      ],
      "source": [
        "#Bring in spatial file of interest (GeoJSON, SHP)\n",
        "df = gpd.read_file('/content/Continental_US.shp')\n",
        "\n",
        " #Generate a bounding box around AOI\n",
        "bbox = df.bounds\n",
        "\n",
        "#Get values from box\n",
        "sw_long = round(bbox.iat[0,0], 6)\n",
        "sw_lat = round(bbox.iat[0,1], 6)\n",
        "ne_long = round(bbox.iat[0,2], 6)\n",
        "ne_lat = round(bbox.iat[0,3], 6)\n",
        "\n",
        "#Generate Bounding Box Coordinates String\n",
        "allot_bbox = [sw_long,sw_lat,ne_long,ne_lat]\n",
        "\n",
        "print(allot_bbox)"
      ]
    },
    {
      "cell_type": "code",
      "execution_count": 34,
      "metadata": {
        "colab": {
          "base_uri": "https://localhost:8080/",
          "height": 87
        },
        "id": "GXKlNlRF8_y_",
        "outputId": "23c5fbd8-2e77-44cb-f215-cafe2745a96d"
      },
      "outputs": [
        {
          "data": {
            "text/html": [
              "\n",
              "            <style>\n",
              "                .geemap-dark {\n",
              "                    --jp-widgets-color: white;\n",
              "                    --jp-widgets-label-color: white;\n",
              "                    --jp-ui-font-color1: white;\n",
              "                    --jp-layout-color2: #454545;\n",
              "                    background-color: #383838;\n",
              "                }\n",
              "\n",
              "                .geemap-dark .jupyter-button {\n",
              "                    --jp-layout-color3: #383838;\n",
              "                }\n",
              "\n",
              "                .geemap-colab {\n",
              "                    background-color: var(--colab-primary-surface-color, white);\n",
              "                }\n",
              "\n",
              "                .geemap-colab .jupyter-button {\n",
              "                    --jp-layout-color3: var(--colab-primary-surface-color, white);\n",
              "                }\n",
              "            </style>\n",
              "            "
            ],
            "text/plain": [
              "<IPython.core.display.HTML object>"
            ]
          },
          "metadata": {},
          "output_type": "display_data"
        },
        {
          "name": "stderr",
          "output_type": "stream",
          "text": [
            "/usr/local/lib/python3.10/dist-packages/urllib3/connectionpool.py:1100: InsecureRequestWarning: Unverified HTTPS request is being made to host 'api.climateengine.org'. Adding certificate verification is strongly advised. See: https://urllib3.readthedocs.io/en/latest/advanced-usage.html#tls-warnings\n",
            "  warnings.warn(\n"
          ]
        },
        {
          "name": "stdout",
          "output_type": "stream",
          "text": [
            "{'task_response': {'state': 'READY', 'description': 'counts_temp', 'creation_timestamp_ms': 1715110577303, 'update_timestamp_ms': 1715110577303, 'start_timestamp_ms': 0, 'task_type': 'EXPORT_IMAGE', 'id': 'JFEG3ELK37PRTHHTS7LHW3UG', 'name': 'projects/climate-engine-pro/operations/JFEG3ELK37PRTHHTS7LHW3UG'}}\n"
          ]
        }
      ],
      "source": [
        "#Set parameters + make request\n",
        "\n",
        "#Select endpoint that exports a map of values to a Google Cloud storage bucket\n",
        "endpoint = 'raster/export/counts'\n",
        "\n",
        "# No need to include an extension on the export_filename below, .tif will be appended automatically.\n",
        "filename = 'counts_temp'\n",
        "\n",
        "#Set up parameters dictionary for API call\n",
        "params = {\n",
        "    'dataset': 'GRIDMET',\n",
        "    'variable': 'tmmx',\n",
        "    'operator': 'threshold_gte',\n",
        "    'output': 'counts',\n",
        "    'value_1': '35',\n",
        "    'start_date': '2023-01-01',\n",
        "    'end_date': '2023-12-31',\n",
        "    'bounding_box': f'{allot_bbox}',\n",
        "    'export_path': f'{bucket_name}/{filename}'\n",
        "}\n",
        "\n",
        "# Send API request\n",
        "r = requests.get(root_url + endpoint, params=params, headers=headers, verify=False)\n",
        "response = r.json()\n",
        "print(response)\n",
        "\n"
      ]
    },
    {
      "cell_type": "code",
      "execution_count": 35,
      "metadata": {
        "colab": {
          "base_uri": "https://localhost:8080/",
          "height": 34
        },
        "id": "8jYdET0qCS_J",
        "outputId": "37158580-a91f-4327-8dd2-e005fca78eaf"
      },
      "outputs": [
        {
          "data": {
            "text/html": [
              "\n",
              "            <style>\n",
              "                .geemap-dark {\n",
              "                    --jp-widgets-color: white;\n",
              "                    --jp-widgets-label-color: white;\n",
              "                    --jp-ui-font-color1: white;\n",
              "                    --jp-layout-color2: #454545;\n",
              "                    background-color: #383838;\n",
              "                }\n",
              "\n",
              "                .geemap-dark .jupyter-button {\n",
              "                    --jp-layout-color3: #383838;\n",
              "                }\n",
              "\n",
              "                .geemap-colab {\n",
              "                    background-color: var(--colab-primary-surface-color, white);\n",
              "                }\n",
              "\n",
              "                .geemap-colab .jupyter-button {\n",
              "                    --jp-layout-color3: var(--colab-primary-surface-color, white);\n",
              "                }\n",
              "            </style>\n",
              "            "
            ],
            "text/plain": [
              "<IPython.core.display.HTML object>"
            ]
          },
          "metadata": {},
          "output_type": "display_data"
        },
        {
          "name": "stdout",
          "output_type": "stream",
          "text": [
            "Updated property [core/project].\n"
          ]
        }
      ],
      "source": [
        "\n",
        "#Connect to GCS\n",
        "#Get access to Google Cloud Storage Bucket\n",
        "from google.colab import auth\n",
        "auth.authenticate_user()\n",
        "\n",
        "# https://cloud.google.com/resource-manager/docs/creating-managing-projects\n",
        "#Add Your Own Project ID\n",
        "project_id = ''\n",
        "!gcloud config set project {project_id}"
      ]
    },
    {
      "cell_type": "code",
      "execution_count": null,
      "metadata": {
        "colab": {
          "base_uri": "https://localhost:8080/",
          "height": 67
        },
        "id": "BBTEGF7IDSSU",
        "outputId": "596240e9-d3ef-40d3-88dd-63e9a9f5db64"
      },
      "outputs": [],
      "source": [
        "#Bring in Raster from GCS\n",
        "# Download the file from a given Google Cloud Storage bucket.\n",
        "!gsutil cp gs://{bucket_name}/{filename}.tif /content/{filename}.tif"
      ]
    },
    {
      "cell_type": "code",
      "execution_count": 37,
      "metadata": {
        "colab": {
          "base_uri": "https://localhost:8080/",
          "height": 18
        },
        "id": "JlWL9S3Z9Z_G",
        "outputId": "55cfa59d-5bb6-4aa8-cf0d-5085a3410edd"
      },
      "outputs": [
        {
          "data": {
            "text/html": [
              "\n",
              "            <style>\n",
              "                .geemap-dark {\n",
              "                    --jp-widgets-color: white;\n",
              "                    --jp-widgets-label-color: white;\n",
              "                    --jp-ui-font-color1: white;\n",
              "                    --jp-layout-color2: #454545;\n",
              "                    background-color: #383838;\n",
              "                }\n",
              "\n",
              "                .geemap-dark .jupyter-button {\n",
              "                    --jp-layout-color3: #383838;\n",
              "                }\n",
              "\n",
              "                .geemap-colab {\n",
              "                    background-color: var(--colab-primary-surface-color, white);\n",
              "                }\n",
              "\n",
              "                .geemap-colab .jupyter-button {\n",
              "                    --jp-layout-color3: var(--colab-primary-surface-color, white);\n",
              "                }\n",
              "            </style>\n",
              "            "
            ],
            "text/plain": [
              "<IPython.core.display.HTML object>"
            ]
          },
          "metadata": {},
          "output_type": "display_data"
        }
      ],
      "source": [
        "#Define file path and read in raster\n",
        "file_path1 = f'/content/{filename}.tif'\n",
        "rds = rxr.open_rasterio(file_path1)\n"
      ]
    },
    {
      "cell_type": "code",
      "execution_count": null,
      "metadata": {
        "colab": {
          "base_uri": "https://localhost:8080/",
          "height": 464
        },
        "id": "FWqxaoZTEbmP",
        "outputId": "c814bd54-94c8-499f-a8b7-34036ffa88df"
      },
      "outputs": [],
      "source": [
        "#Make Maps\n",
        "# Generate Map\n",
        "fig, ax = plt.subplots()\n",
        "fig.set_size_inches(15, 13)\n",
        "divider = make_axes_locatable(ax)\n",
        "cax = divider.append_axes('right', size='5%', pad=0.05)\n",
        "im = ax.imshow(rds[0], cmap ='Spectral_r', vmin = 0, vmax = 150)\n",
        "\n",
        "#Add Color Bar\n",
        "fig.colorbar(im, cax = cax, orientation = 'vertical')\n",
        "\n",
        "#Add Title\n",
        "ax.set_title('2023 GridMET Max Temp Counts: Days Greater Than or Equal To 95 Deg F ', fontsize =16)\n",
        "\n",
        "# Remove Axes\n",
        "ax.axis('off')\n",
        "\n",
        "#Add Figure Export Option\n",
        "plt.savefig('Counts.png', bbox_inches='tight')\n",
        "\n",
        "\n",
        "#Show Map\n",
        "plt.show()"
      ]
    }
  ],
  "metadata": {
    "colab": {
      "provenance": []
    },
    "kernelspec": {
      "display_name": "Python 3.9.6 64-bit",
      "language": "python",
      "name": "python3"
    },
    "language_info": {
      "name": "python",
      "version": "3.9.6"
    },
    "vscode": {
      "interpreter": {
        "hash": "31f2aee4e71d21fbe5cf8b01ff0e069b9275f58929596ceb00d14d90e3e16cd6"
      }
    }
  },
  "nbformat": 4,
  "nbformat_minor": 0
}
