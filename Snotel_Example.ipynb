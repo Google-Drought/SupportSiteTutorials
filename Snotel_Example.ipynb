{
  "cells": [
    {
      "cell_type": "code",
      "execution_count": null,
      "metadata": {
        "colab": {
          "base_uri": "https://localhost:8080/"
        },
        "id": "cE7LvJZ0pttX",
        "outputId": "955ab6ea-1ddd-4351-9aa8-1006a95f6f1e"
      },
      "outputs": [],
      "source": [
        "#Import Packages\n",
        "#Import/Install Packages\n",
        "import datetime\n",
        "import os\n",
        "import requests\n",
        "import time\n",
        "      \n",
        "!pip install --quiet geopandas\n",
        "import pandas as pd\n",
        "import geopandas as gpd\n",
        "import matplotlib.pyplot as plt\n",
        "plt.style.use('classic')\n",
        "%matplotlib inline\n",
        "import numpy as np\n",
        "requests.packages.urllib3.disable_warnings(requests.packages.urllib3.exceptions.InsecureRequestWarning)"
      ]
    },
    {
      "cell_type": "code",
      "execution_count": 2,
      "metadata": {
        "id": "9PE3I8RKVZGz"
      },
      "outputs": [],
      "source": [
        "#Prep for API Call\n",
        "# Set root URL for API requests\n",
        "root_url = 'https://api.climateengine.org/'\n",
        "# Authentication info for the API (INSERT YOUR OWN KEY)\n",
        "headers = {'Authorization': 'INSERT YOUR API KEY HERE'}"
      ]
    },
    {
      "cell_type": "code",
      "execution_count": null,
      "metadata": {
        "id": "w_qUSlf_rylj"
      },
      "outputs": [],
      "source": [
        "#Bring in Snotel lat/longs: https://wcc.sc.egov.usda.gov/nwcc/yearcount?network=sntl&state=&counttype=statelist\n",
        "data = pd.read_csv('/content/SnotelStationLocations.csv')\n",
        "data = data[data['state']!= 'AK']\n",
        "siteName = pd.unique(data[['site_name']].values.ravel('k'))\n",
        "print('Site Name:', siteName)\n",
        "latValue = pd.unique(data[['lat']].values.ravel('k')).astype(float)\n",
        "print('Latitude Value:',latValue)\n",
        "longValue = pd.unique(data[['lon']].values.ravel('k')).astype(float)\n",
        "print('Longitude Value:',longValue)"
      ]
    },
    {
      "cell_type": "code",
      "execution_count": null,
      "metadata": {
        "id": "5Q6AOFZFx17Q"
      },
      "outputs": [],
      "source": [
        "#Create a coordinate list in a format the API request can use\n",
        "coordinateList = [list(x) for x in zip(longValue, latValue)]\n",
        "#coordinateList = str(coordinateList)\n",
        "sites = {}\n",
        "for x in siteName:\n",
        "  for y in coordinateList:\n",
        "    sites[x] = str([y])\n",
        "    coordinateList.remove(y)\n",
        "    break\n",
        "print(sites)"
      ]
    },
    {
      "cell_type": "code",
      "execution_count": null,
      "metadata": {
        "id": "MV6jPorpLpSE"
      },
      "outputs": [],
      "source": [
        "# Mount Google Drive for exporting CSVs\n",
        "from google.colab import drive\n",
        "drive.mount('/content/drive')"
      ]
    },
    {
      "cell_type": "code",
      "execution_count": null,
      "metadata": {
        "id": "2keITms3Gd9o"
      },
      "outputs": [],
      "source": [
        "#Write function to automate export of csvs and pngs of SNODAS data to Google Drive\n",
        "def write_timeseries(siteName, dataset, variable, start_date, end_date, variableC):\n",
        "  \n",
        "  print(\"Attempting export for \" + siteName)\n",
        "\n",
        "  # Endpoint\n",
        "  endpoint1 = 'timeseries/native/points'\n",
        "\n",
        "  # Set up parameters for API call\n",
        "  params1 = {\n",
        "      'dataset': dataset,\n",
        "      'variable': variable,\n",
        "      'start_date': start_date ,\n",
        "      'end_date': end_date,\n",
        "      'coordinates': sites[siteName],\n",
        "      'area_reducer':'mean'\n",
        "  }\n",
        "\n",
        "  # Send request to the API\n",
        "  r = requests.get(root_url + endpoint1, params=params1, headers=headers, verify=True)\n",
        "  response = r.json()\n",
        "\n",
        "  #response (may need to unpack with [] around timeseries the first time)\n",
        "  [timeseries] = response\n",
        "\n",
        "  #Select data\n",
        "  data = timeseries['Data']\n",
        "\n",
        "  # Convert to dataframe\n",
        "  df = pd.DataFrame.from_dict(data)\n",
        "\n",
        "  #Process timeseries data \n",
        "  #Filter out non-available data i.e. values of -9999.000\n",
        "  df = df[df[variableC]>-100]\n",
        "\n",
        "  #Format dates for plotting\n",
        "  df['Date'] = pd.to_datetime(df['Date'])\n",
        "\n",
        "  #Set x values to date variable\n",
        "  date = df['Date']\n",
        "\n",
        "  #Set y values to value variable\n",
        "  value = df[variableC]\n",
        "\n",
        "  #Plot timeseries data\n",
        "  #Generate graph of long term blend values across date range\n",
        "  fig, ax = plt.subplots(figsize=(18,6))\n",
        "  name = siteName\n",
        "  ax.plot(date, value, label = name)  \n",
        "\n",
        "  #Add x-axis label\n",
        "  plt.xlabel(\"Dates\")\n",
        "                      \n",
        "  #Add y-axis label\n",
        "  plt.ylabel(variableC)\n",
        "           \n",
        "  #Add Title\n",
        "  plt.title(dataset + \" \" + variable  + \" \" + start_date +\" through \" + end_date)\n",
        "\n",
        "  #Add Legend \n",
        "  plt.legend(loc='upper left')\n",
        "\n",
        "\n",
        "  # # Conditionally create Google Drive directories to store outputs, if they don't exist \n",
        "  if not os.path.exists(\"/content/drive/MyDrive/Snotel_Example/\"):\n",
        "    os.mkdir(\"/content/drive/MyDrive/Snotel_Example/\")\n",
        "  if not os.path.exists(\"/content/drive/MyDrive/Snotel_Example/\" + dataset):\n",
        "    os.mkdir(\"/content/drive/MyDrive/Snotel_Example/\" + dataset)\n",
        "  if not os.path.exists(\"/content/drive/MyDrive/Snotel_Example/\" + dataset + \"/\" + variable):\n",
        "    os.mkdir(\"/content/drive/MyDrive/Snotel_Example/\" + dataset + \"/\" + variable)\n",
        "\n",
        "  print(df)\n",
        "  # # Write Pandas data frame to CSV in Google Drive\n",
        "  df.to_csv(\"/content/drive/MyDrive/Snotel_Example/\" + dataset + \"/\" + variable + \"/\" + siteName + \".csv\")\n",
        "  plt.savefig(\"/content/drive/MyDrive/Snotel_Example/\" + dataset + \"/\" + variable + \"/\" + siteName + \".png\",  bbox_inches='tight')"
      ]
    },
    {
      "cell_type": "code",
      "execution_count": null,
      "metadata": {
        "id": "7u64uFqJLJo9"
      },
      "outputs": [],
      "source": [
        "#Define Variables\n",
        "dataset = \"SNODAS\"\n",
        "variable = \"SWE\"\n",
        "start_date = \"2003-10-01\"\n",
        "end_date = \"2023-02-25\"\n",
        "variableC = \"SWE (mm)\"\n",
        "\n",
        "# Loop over allotment names to timeseries CSVs to Google Drive\n",
        "for i in siteName:\n",
        "  write_timeseries(i, dataset, variable, start_date, end_date, variableC)"
      ]
    },
    {
      "cell_type": "markdown",
      "metadata": {
        "id": "YTkd5n38e3Qn"
      },
      "source": [
        "Testing API call before automated export above"
      ]
    },
    {
      "cell_type": "code",
      "execution_count": null,
      "metadata": {
        "colab": {
          "base_uri": "https://localhost:8080/"
        },
        "id": "5IdVMhTUsGbW",
        "outputId": "8d8789c5-fcdf-475c-afef-a47be14b883f"
      },
      "outputs": [],
      "source": [
        "#Make SWE timeseries request for all locations\n",
        "\n",
        "# Endpoint\n",
        "endpoint9 = 'timeseries/native/points'\n",
        "\n",
        "# Set up parameters for API call\n",
        "params9 = {\n",
        "    'dataset':'SNODAS',\n",
        "    'variable':'Snow_Depth',\n",
        "    'start_date':'2003-10-01' ,\n",
        "    'end_date':'2023-02-25',\n",
        "    'coordinates': '[[-111.41, 34.46]]',\n",
        "    'area_reducer':'mean'\n",
        "}\n",
        "# Send request to the API\n",
        "r9 = requests.get(root_url + endpoint9, params=params9, headers=headers, verify=False)\n",
        "response9 = r9.json()\n",
        "print(response9)\n"
      ]
    },
    {
      "cell_type": "code",
      "execution_count": null,
      "metadata": {
        "id": "UrBrHDsRtLFI"
      },
      "outputs": [],
      "source": [
        "#response (may need to unpack with [] around timeseries the first time)\n",
        "[timeseries] = response9\n",
        "\n",
        "#Select data\n",
        "data = timeseries['Data']\n",
        "\n",
        "# Convert to dataframe\n",
        "df = pd.DataFrame.from_dict(data)\n",
        "print(df)"
      ]
    },
    {
      "cell_type": "code",
      "execution_count": null,
      "metadata": {
        "id": "AWRBAn81tOz1"
      },
      "outputs": [],
      "source": [
        "#Process timeseries data \n",
        "#Filter out non-available data i.e. values of -9999.000\n",
        "df = df[df['Snow_Depth (mm)']>-100]\n",
        "\n",
        "#Format dates for plotting\n",
        "df['Date'] = pd.to_datetime(df['Date'])\n",
        "\n",
        "#Set x values to date variable\n",
        "date = df['Date']\n",
        "\n",
        "#Set y values to value variable\n",
        "value = df['Snow_Depth (mm)']"
      ]
    },
    {
      "cell_type": "code",
      "execution_count": null,
      "metadata": {
        "colab": {
          "base_uri": "https://localhost:8080/",
          "height": 368
        },
        "id": "lYLdjfHWtThg",
        "outputId": "466421ad-b807-45be-eb04-d85e620e5d60"
      },
      "outputs": [],
      "source": [
        "#Plot timeseries data\n",
        "#Generate graph of long term blend values across date range\n",
        "fig, ax = plt.subplots(figsize=(18,6))\n",
        "ax.plot(date, value, label = siteName[0],)  \n",
        "\n",
        "#Add x-axis label\n",
        "plt.xlabel(\"Dates\")\n",
        "                      \n",
        "#Add y-axis label\n",
        "plt.ylabel(\"Snow_Depth (mm)\")\n",
        "           \n",
        "#Add Title\n",
        "plt.title(dataset + \" \" + variable  + \" \" + start_date +\" through \" + end_date)\n",
        "\n",
        "#Add Legend \n",
        "plt.legend()\n",
        "\n",
        "#Export Graph\n",
        "plt.savefig('Depth_Plot.png')\n",
        "           \n",
        "#Show Graph\n",
        "plt.show()"
      ]
    }
  ],
  "metadata": {
    "colab": {
      "provenance": []
    },
    "kernelspec": {
      "display_name": "Python 3",
      "name": "python3"
    },
    "language_info": {
      "name": "python"
    }
  },
  "nbformat": 4,
  "nbformat_minor": 0
}
